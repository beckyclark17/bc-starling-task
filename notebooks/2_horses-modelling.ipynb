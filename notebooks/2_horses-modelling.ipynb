{
 "cells": [
  {
   "cell_type": "markdown",
   "metadata": {},
   "source": [
    "# Task 2 Modelling:  \n",
    "(45 Minutes Max)\n",
    "\n",
    "1) Build a model (or models) to predict the winner.  \n",
    "2) Evaluate your model(s) performance and briefly detail any methods or logic you are using to do so."
   ]
  },
  {
   "cell_type": "markdown",
   "metadata": {
    "jp-MarkdownHeadingCollapsed": true,
    "tags": []
   },
   "source": [
    "## Import Libraries"
   ]
  },
  {
   "cell_type": "code",
   "execution_count": 1,
   "metadata": {},
   "outputs": [],
   "source": [
    "import pandas as pd\n",
    "import numpy as np\n",
    "import pickle\n",
    "\n",
    "from sklearn.ensemble import RandomForestClassifier\n",
    "from sklearn.feature_selection import RFECV\n",
    "from sklearn.metrics import f1_score, classification_report\n",
    "\n",
    "import matplotlib.pyplot as plt\n",
    "import seaborn as sns"
   ]
  },
  {
   "cell_type": "code",
   "execution_count": 2,
   "metadata": {},
   "outputs": [],
   "source": [
    "# !pip install imblearn\n",
    "from imblearn.over_sampling import RandomOverSampler"
   ]
  },
  {
   "cell_type": "markdown",
   "metadata": {},
   "source": [
    "## Import processed data"
   ]
  },
  {
   "cell_type": "code",
   "execution_count": 3,
   "metadata": {},
   "outputs": [
    {
     "data": {
      "text/plain": [
       "(36819, 78)"
      ]
     },
     "execution_count": 3,
     "metadata": {},
     "output_type": "execute_result"
    }
   ],
   "source": [
    "data_path = \"../data/processed/Horses.pickle\"\n",
    "df = pd.read_pickle(data_path)\n",
    "df.shape"
   ]
  },
  {
   "cell_type": "code",
   "execution_count": 4,
   "metadata": {},
   "outputs": [
    {
     "data": {
      "text/html": [
       "<div>\n",
       "<style scoped>\n",
       "    .dataframe tbody tr th:only-of-type {\n",
       "        vertical-align: middle;\n",
       "    }\n",
       "\n",
       "    .dataframe tbody tr th {\n",
       "        vertical-align: top;\n",
       "    }\n",
       "\n",
       "    .dataframe thead th {\n",
       "        text-align: right;\n",
       "    }\n",
       "</style>\n",
       "<table border=\"1\" class=\"dataframe\">\n",
       "  <thead>\n",
       "    <tr style=\"text-align: right;\">\n",
       "      <th></th>\n",
       "      <th>RaceID</th>\n",
       "      <th>HorseID</th>\n",
       "      <th>Cloth</th>\n",
       "      <th>Stall</th>\n",
       "      <th>WeightValue</th>\n",
       "      <th>JockeyID</th>\n",
       "      <th>TrainerID</th>\n",
       "      <th>OwnerID</th>\n",
       "      <th>LastRunDaysFlat</th>\n",
       "      <th>Age</th>\n",
       "      <th>...</th>\n",
       "      <th>Colour_ch</th>\n",
       "      <th>Colour_dkb</th>\n",
       "      <th>Colour_g</th>\n",
       "      <th>Colour_gr</th>\n",
       "      <th>Colour_gr/</th>\n",
       "      <th>Sex_c</th>\n",
       "      <th>Sex_f</th>\n",
       "      <th>Sex_g</th>\n",
       "      <th>Sex_h</th>\n",
       "      <th>Sex_m</th>\n",
       "    </tr>\n",
       "  </thead>\n",
       "  <tbody>\n",
       "    <tr>\n",
       "      <th>0</th>\n",
       "      <td>989418</td>\n",
       "      <td>2963489</td>\n",
       "      <td>7</td>\n",
       "      <td>5.0</td>\n",
       "      <td>132</td>\n",
       "      <td>1398052.0</td>\n",
       "      <td>1198534</td>\n",
       "      <td>1289143.0</td>\n",
       "      <td>26.0</td>\n",
       "      <td>3.0</td>\n",
       "      <td>...</td>\n",
       "      <td>0</td>\n",
       "      <td>0</td>\n",
       "      <td>0</td>\n",
       "      <td>0</td>\n",
       "      <td>0</td>\n",
       "      <td>0</td>\n",
       "      <td>1</td>\n",
       "      <td>0</td>\n",
       "      <td>0</td>\n",
       "      <td>0</td>\n",
       "    </tr>\n",
       "    <tr>\n",
       "      <th>1</th>\n",
       "      <td>989418</td>\n",
       "      <td>2972665</td>\n",
       "      <td>13</td>\n",
       "      <td>6.0</td>\n",
       "      <td>132</td>\n",
       "      <td>1165412.0</td>\n",
       "      <td>1188128</td>\n",
       "      <td>1140080.0</td>\n",
       "      <td>NaN</td>\n",
       "      <td>3.0</td>\n",
       "      <td>...</td>\n",
       "      <td>0</td>\n",
       "      <td>0</td>\n",
       "      <td>0</td>\n",
       "      <td>0</td>\n",
       "      <td>0</td>\n",
       "      <td>0</td>\n",
       "      <td>1</td>\n",
       "      <td>0</td>\n",
       "      <td>0</td>\n",
       "      <td>0</td>\n",
       "    </tr>\n",
       "    <tr>\n",
       "      <th>2</th>\n",
       "      <td>989418</td>\n",
       "      <td>2972662</td>\n",
       "      <td>9</td>\n",
       "      <td>7.0</td>\n",
       "      <td>132</td>\n",
       "      <td>1239852.0</td>\n",
       "      <td>1199122</td>\n",
       "      <td>1448576.0</td>\n",
       "      <td>NaN</td>\n",
       "      <td>3.0</td>\n",
       "      <td>...</td>\n",
       "      <td>0</td>\n",
       "      <td>0</td>\n",
       "      <td>0</td>\n",
       "      <td>0</td>\n",
       "      <td>0</td>\n",
       "      <td>0</td>\n",
       "      <td>1</td>\n",
       "      <td>0</td>\n",
       "      <td>0</td>\n",
       "      <td>0</td>\n",
       "    </tr>\n",
       "    <tr>\n",
       "      <th>3</th>\n",
       "      <td>989418</td>\n",
       "      <td>2960365</td>\n",
       "      <td>1</td>\n",
       "      <td>12.0</td>\n",
       "      <td>132</td>\n",
       "      <td>1417524.0</td>\n",
       "      <td>1049637</td>\n",
       "      <td>1487690.0</td>\n",
       "      <td>33.0</td>\n",
       "      <td>3.0</td>\n",
       "      <td>...</td>\n",
       "      <td>0</td>\n",
       "      <td>0</td>\n",
       "      <td>0</td>\n",
       "      <td>0</td>\n",
       "      <td>0</td>\n",
       "      <td>0</td>\n",
       "      <td>1</td>\n",
       "      <td>0</td>\n",
       "      <td>0</td>\n",
       "      <td>0</td>\n",
       "    </tr>\n",
       "    <tr>\n",
       "      <th>4</th>\n",
       "      <td>989418</td>\n",
       "      <td>2968596</td>\n",
       "      <td>11</td>\n",
       "      <td>8.0</td>\n",
       "      <td>132</td>\n",
       "      <td>1354773.0</td>\n",
       "      <td>1140041</td>\n",
       "      <td>1403676.0</td>\n",
       "      <td>24.0</td>\n",
       "      <td>3.0</td>\n",
       "      <td>...</td>\n",
       "      <td>0</td>\n",
       "      <td>0</td>\n",
       "      <td>0</td>\n",
       "      <td>0</td>\n",
       "      <td>0</td>\n",
       "      <td>0</td>\n",
       "      <td>1</td>\n",
       "      <td>0</td>\n",
       "      <td>0</td>\n",
       "      <td>0</td>\n",
       "    </tr>\n",
       "  </tbody>\n",
       "</table>\n",
       "<p>5 rows × 78 columns</p>\n",
       "</div>"
      ],
      "text/plain": [
       "   RaceID  HorseID  Cloth  Stall  WeightValue   JockeyID  TrainerID  \\\n",
       "0  989418  2963489      7    5.0          132  1398052.0    1198534   \n",
       "1  989418  2972665     13    6.0          132  1165412.0    1188128   \n",
       "2  989418  2972662      9    7.0          132  1239852.0    1199122   \n",
       "3  989418  2960365      1   12.0          132  1417524.0    1049637   \n",
       "4  989418  2968596     11    8.0          132  1354773.0    1140041   \n",
       "\n",
       "     OwnerID  LastRunDaysFlat  Age  ...  Colour_ch  Colour_dkb  Colour_g  \\\n",
       "0  1289143.0             26.0  3.0  ...          0           0         0   \n",
       "1  1140080.0              NaN  3.0  ...          0           0         0   \n",
       "2  1448576.0              NaN  3.0  ...          0           0         0   \n",
       "3  1487690.0             33.0  3.0  ...          0           0         0   \n",
       "4  1403676.0             24.0  3.0  ...          0           0         0   \n",
       "\n",
       "   Colour_gr  Colour_gr/  Sex_c  Sex_f  Sex_g  Sex_h  Sex_m  \n",
       "0          0           0      0      1      0      0      0  \n",
       "1          0           0      0      1      0      0      0  \n",
       "2          0           0      0      1      0      0      0  \n",
       "3          0           0      0      1      0      0      0  \n",
       "4          0           0      0      1      0      0      0  \n",
       "\n",
       "[5 rows x 78 columns]"
      ]
     },
     "execution_count": 4,
     "metadata": {},
     "output_type": "execute_result"
    }
   ],
   "source": [
    "df.head()"
   ]
  },
  {
   "cell_type": "markdown",
   "metadata": {
    "tags": []
   },
   "source": [
    "## Create X, y"
   ]
  },
  {
   "cell_type": "code",
   "execution_count": 5,
   "metadata": {},
   "outputs": [],
   "source": [
    "# due to time constraints, going to omit ID columns;\n",
    "id_cols = [col for col in df.columns if 'id' in col.lower()]\n",
    "\n",
    "# and ones with nulls...\n",
    "nulls = df.columns[(df.isnull().sum() > 0).values]\n",
    "nulls = set(nulls).difference(id_cols)"
   ]
  },
  {
   "cell_type": "code",
   "execution_count": 6,
   "metadata": {},
   "outputs": [],
   "source": [
    "y = df['Won']"
   ]
  },
  {
   "cell_type": "code",
   "execution_count": 7,
   "metadata": {},
   "outputs": [
    {
     "data": {
      "text/plain": [
       "0    33912\n",
       "1     2907\n",
       "Name: Won, dtype: int64"
      ]
     },
     "execution_count": 7,
     "metadata": {},
     "output_type": "execute_result"
    }
   ],
   "source": [
    "y.value_counts()"
   ]
  },
  {
   "cell_type": "code",
   "execution_count": 8,
   "metadata": {},
   "outputs": [],
   "source": [
    "X = df.drop(columns= id_cols + list(nulls))"
   ]
  },
  {
   "cell_type": "code",
   "execution_count": 9,
   "metadata": {},
   "outputs": [
    {
     "data": {
      "text/html": [
       "<div>\n",
       "<style scoped>\n",
       "    .dataframe tbody tr th:only-of-type {\n",
       "        vertical-align: middle;\n",
       "    }\n",
       "\n",
       "    .dataframe tbody tr th {\n",
       "        vertical-align: top;\n",
       "    }\n",
       "\n",
       "    .dataframe thead th {\n",
       "        text-align: right;\n",
       "    }\n",
       "</style>\n",
       "<table border=\"1\" class=\"dataframe\">\n",
       "  <thead>\n",
       "    <tr style=\"text-align: right;\">\n",
       "      <th></th>\n",
       "      <th>Cloth</th>\n",
       "      <th>WeightValue</th>\n",
       "      <th>RaceNumber</th>\n",
       "      <th>HorseCount</th>\n",
       "      <th>Course_Distance</th>\n",
       "      <th>Handicap</th>\n",
       "      <th>MeetingDate</th>\n",
       "      <th>Won</th>\n",
       "      <th>forecast_price_cleaned</th>\n",
       "      <th>starting_price_cleaned</th>\n",
       "      <th>...</th>\n",
       "      <th>Colour_ch</th>\n",
       "      <th>Colour_dkb</th>\n",
       "      <th>Colour_g</th>\n",
       "      <th>Colour_gr</th>\n",
       "      <th>Colour_gr/</th>\n",
       "      <th>Sex_c</th>\n",
       "      <th>Sex_f</th>\n",
       "      <th>Sex_g</th>\n",
       "      <th>Sex_h</th>\n",
       "      <th>Sex_m</th>\n",
       "    </tr>\n",
       "  </thead>\n",
       "  <tbody>\n",
       "    <tr>\n",
       "      <th>0</th>\n",
       "      <td>7</td>\n",
       "      <td>132</td>\n",
       "      <td>1</td>\n",
       "      <td>13</td>\n",
       "      <td>1312</td>\n",
       "      <td>0.0</td>\n",
       "      <td>2017-05-02</td>\n",
       "      <td>0</td>\n",
       "      <td>16.00</td>\n",
       "      <td>12.000000</td>\n",
       "      <td>...</td>\n",
       "      <td>0</td>\n",
       "      <td>0</td>\n",
       "      <td>0</td>\n",
       "      <td>0</td>\n",
       "      <td>0</td>\n",
       "      <td>0</td>\n",
       "      <td>1</td>\n",
       "      <td>0</td>\n",
       "      <td>0</td>\n",
       "      <td>0</td>\n",
       "    </tr>\n",
       "    <tr>\n",
       "      <th>1</th>\n",
       "      <td>13</td>\n",
       "      <td>132</td>\n",
       "      <td>1</td>\n",
       "      <td>13</td>\n",
       "      <td>1312</td>\n",
       "      <td>0.0</td>\n",
       "      <td>2017-05-02</td>\n",
       "      <td>0</td>\n",
       "      <td>20.00</td>\n",
       "      <td>40.000000</td>\n",
       "      <td>...</td>\n",
       "      <td>0</td>\n",
       "      <td>0</td>\n",
       "      <td>0</td>\n",
       "      <td>0</td>\n",
       "      <td>0</td>\n",
       "      <td>0</td>\n",
       "      <td>1</td>\n",
       "      <td>0</td>\n",
       "      <td>0</td>\n",
       "      <td>0</td>\n",
       "    </tr>\n",
       "    <tr>\n",
       "      <th>2</th>\n",
       "      <td>9</td>\n",
       "      <td>132</td>\n",
       "      <td>1</td>\n",
       "      <td>13</td>\n",
       "      <td>1312</td>\n",
       "      <td>0.0</td>\n",
       "      <td>2017-05-02</td>\n",
       "      <td>0</td>\n",
       "      <td>10.00</td>\n",
       "      <td>20.699157</td>\n",
       "      <td>...</td>\n",
       "      <td>0</td>\n",
       "      <td>0</td>\n",
       "      <td>0</td>\n",
       "      <td>0</td>\n",
       "      <td>0</td>\n",
       "      <td>0</td>\n",
       "      <td>1</td>\n",
       "      <td>0</td>\n",
       "      <td>0</td>\n",
       "      <td>0</td>\n",
       "    </tr>\n",
       "    <tr>\n",
       "      <th>3</th>\n",
       "      <td>1</td>\n",
       "      <td>132</td>\n",
       "      <td>1</td>\n",
       "      <td>13</td>\n",
       "      <td>1312</td>\n",
       "      <td>0.0</td>\n",
       "      <td>2017-05-02</td>\n",
       "      <td>1</td>\n",
       "      <td>1.75</td>\n",
       "      <td>1.100000</td>\n",
       "      <td>...</td>\n",
       "      <td>0</td>\n",
       "      <td>0</td>\n",
       "      <td>0</td>\n",
       "      <td>0</td>\n",
       "      <td>0</td>\n",
       "      <td>0</td>\n",
       "      <td>1</td>\n",
       "      <td>0</td>\n",
       "      <td>0</td>\n",
       "      <td>0</td>\n",
       "    </tr>\n",
       "    <tr>\n",
       "      <th>4</th>\n",
       "      <td>11</td>\n",
       "      <td>132</td>\n",
       "      <td>1</td>\n",
       "      <td>13</td>\n",
       "      <td>1312</td>\n",
       "      <td>0.0</td>\n",
       "      <td>2017-05-02</td>\n",
       "      <td>0</td>\n",
       "      <td>8.00</td>\n",
       "      <td>20.699157</td>\n",
       "      <td>...</td>\n",
       "      <td>0</td>\n",
       "      <td>0</td>\n",
       "      <td>0</td>\n",
       "      <td>0</td>\n",
       "      <td>0</td>\n",
       "      <td>0</td>\n",
       "      <td>1</td>\n",
       "      <td>0</td>\n",
       "      <td>0</td>\n",
       "      <td>0</td>\n",
       "    </tr>\n",
       "  </tbody>\n",
       "</table>\n",
       "<p>5 rows × 64 columns</p>\n",
       "</div>"
      ],
      "text/plain": [
       "   Cloth  WeightValue  RaceNumber  HorseCount  Course_Distance  Handicap  \\\n",
       "0      7          132           1          13             1312       0.0   \n",
       "1     13          132           1          13             1312       0.0   \n",
       "2      9          132           1          13             1312       0.0   \n",
       "3      1          132           1          13             1312       0.0   \n",
       "4     11          132           1          13             1312       0.0   \n",
       "\n",
       "  MeetingDate  Won  forecast_price_cleaned  starting_price_cleaned  ...  \\\n",
       "0  2017-05-02    0                   16.00               12.000000  ...   \n",
       "1  2017-05-02    0                   20.00               40.000000  ...   \n",
       "2  2017-05-02    0                   10.00               20.699157  ...   \n",
       "3  2017-05-02    1                    1.75                1.100000  ...   \n",
       "4  2017-05-02    0                    8.00               20.699157  ...   \n",
       "\n",
       "   Colour_ch  Colour_dkb  Colour_g  Colour_gr  Colour_gr/  Sex_c  Sex_f  \\\n",
       "0          0           0         0          0           0      0      1   \n",
       "1          0           0         0          0           0      0      1   \n",
       "2          0           0         0          0           0      0      1   \n",
       "3          0           0         0          0           0      0      1   \n",
       "4          0           0         0          0           0      0      1   \n",
       "\n",
       "   Sex_g  Sex_h  Sex_m  \n",
       "0      0      0      0  \n",
       "1      0      0      0  \n",
       "2      0      0      0  \n",
       "3      0      0      0  \n",
       "4      0      0      0  \n",
       "\n",
       "[5 rows x 64 columns]"
      ]
     },
     "execution_count": 9,
     "metadata": {},
     "output_type": "execute_result"
    }
   ],
   "source": [
    "X.head()"
   ]
  },
  {
   "cell_type": "markdown",
   "metadata": {
    "tags": []
   },
   "source": [
    "## Create Train & Validation Datasets  \n",
    "Ordered by time"
   ]
  },
  {
   "cell_type": "code",
   "execution_count": 10,
   "metadata": {},
   "outputs": [],
   "source": [
    "X = X.sort_values(by='MeetingDate')"
   ]
  },
  {
   "cell_type": "code",
   "execution_count": 11,
   "metadata": {},
   "outputs": [
    {
     "data": {
      "text/plain": [
       "<matplotlib.axes._subplots.AxesSubplot at 0x1b18d62630>"
      ]
     },
     "execution_count": 11,
     "metadata": {},
     "output_type": "execute_result"
    },
    {
     "data": {
      "image/png": "[encoded data removed]",
      "text/plain": [
       "<Figure size 432x288 with 1 Axes>"
      ]
     },
     "metadata": {
      "needs_background": "light"
     },
     "output_type": "display_data"
    }
   ],
   "source": [
    "X['MeetingDate'].value_counts().plot()"
   ]
  },
  {
   "cell_type": "markdown",
   "metadata": {},
   "source": [
    "Let's train on 2017 and validate against the first two months of 2018..."
   ]
  },
  {
   "cell_type": "code",
   "execution_count": 12,
   "metadata": {},
   "outputs": [
    {
     "name": "stdout",
     "output_type": "stream",
     "text": [
      "31794 5025\n",
      "31794 5025 31794 5025\n"
     ]
    }
   ],
   "source": [
    "cond = df.MeetingDate.dt.year < 2018\n",
    "trn_idx = np.where(cond)[0]\n",
    "val_idx = np.where(~cond)[0]\n",
    "\n",
    "X = X.drop(columns=['MeetingDate'])\n",
    "print(len(trn_idx), len(val_idx))\n",
    "\n",
    "X_trn, X_val, y_trn, y_val = X.iloc[trn_idx], X.iloc[val_idx], y.loc[trn_idx], y.loc[val_idx]\n",
    "\n",
    "print(len(X_trn), len(X_val), len(y_trn), len(y_val))"
   ]
  },
  {
   "cell_type": "markdown",
   "metadata": {},
   "source": [
    "*would usually create a test set to tune hyperparameters"
   ]
  },
  {
   "cell_type": "markdown",
   "metadata": {},
   "source": [
    "## Baseline model"
   ]
  },
  {
   "cell_type": "code",
   "execution_count": 13,
   "metadata": {},
   "outputs": [],
   "source": [
    "def accuracy(actuals, preds):\n",
    "    return (preds == actuals).sum() / len(actuals)"
   ]
  },
  {
   "cell_type": "code",
   "execution_count": 14,
   "metadata": {},
   "outputs": [],
   "source": [
    "# fitting default classifier to get a baseline accuracy...\n",
    "rc = RandomForestClassifier()\n",
    "\n",
    "rc.fit(X_trn, y_trn)\n",
    "\n",
    "preds = rc.predict(X_val)\n",
    "proba = rc.predict_proba(X_val)"
   ]
  },
  {
   "cell_type": "code",
   "execution_count": 15,
   "metadata": {},
   "outputs": [
    {
     "data": {
      "text/plain": [
       "0.9209950248756219"
      ]
     },
     "execution_count": 15,
     "metadata": {},
     "output_type": "execute_result"
    }
   ],
   "source": [
    "accuracy(y_val, preds)"
   ]
  },
  {
   "cell_type": "markdown",
   "metadata": {},
   "source": [
    "^^^ Looks to good to be true! Let's print out the f1-score, precision & recall..."
   ]
  },
  {
   "cell_type": "code",
   "execution_count": 16,
   "metadata": {},
   "outputs": [
    {
     "name": "stdout",
     "output_type": "stream",
     "text": [
      "              precision    recall  f1-score   support\n",
      "\n",
      "           0       0.92      1.00      0.96      4628\n",
      "           1       0.00      0.00      0.00       397\n",
      "\n",
      "    accuracy                           0.92      5025\n",
      "   macro avg       0.46      0.50      0.48      5025\n",
      "weighted avg       0.85      0.92      0.88      5025\n",
      "\n"
     ]
    },
    {
     "name": "stderr",
     "output_type": "stream",
     "text": [
      "//anaconda3/lib/python3.7/site-packages/sklearn/metrics/_classification.py:1318: UndefinedMetricWarning: Precision and F-score are ill-defined and being set to 0.0 in labels with no predicted samples. Use `zero_division` parameter to control this behavior.\n",
      "  _warn_prf(average, modifier, msg_start, len(result))\n",
      "//anaconda3/lib/python3.7/site-packages/sklearn/metrics/_classification.py:1318: UndefinedMetricWarning: Precision and F-score are ill-defined and being set to 0.0 in labels with no predicted samples. Use `zero_division` parameter to control this behavior.\n",
      "  _warn_prf(average, modifier, msg_start, len(result))\n",
      "//anaconda3/lib/python3.7/site-packages/sklearn/metrics/_classification.py:1318: UndefinedMetricWarning: Precision and F-score are ill-defined and being set to 0.0 in labels with no predicted samples. Use `zero_division` parameter to control this behavior.\n",
      "  _warn_prf(average, modifier, msg_start, len(result))\n"
     ]
    }
   ],
   "source": [
    "print(classification_report(y_val, preds))"
   ]
  },
  {
   "cell_type": "markdown",
   "metadata": {},
   "source": [
    "^^^ model isn't predicting any winners!  Accuracy isn't a good metric for this imbalanced dataset, so will switch to f1-score - which captures precision and recall."
   ]
  },
  {
   "cell_type": "markdown",
   "metadata": {},
   "source": [
    "## Over-sampling winners  \n",
    "\n",
    "Randomly oversample the minority class to see if the model better learns 'winners'"
   ]
  },
  {
   "cell_type": "code",
   "execution_count": 17,
   "metadata": {},
   "outputs": [],
   "source": [
    "ros = RandomOverSampler(sampling_strategy='not majority', random_state=171)\n",
    "X_trn_os, y_trn_os = ros.fit_resample(X_trn, y_trn)"
   ]
  },
  {
   "cell_type": "code",
   "execution_count": 18,
   "metadata": {},
   "outputs": [
    {
     "data": {
      "text/plain": [
       "1    29284\n",
       "0    29284\n",
       "Name: Won, dtype: int64"
      ]
     },
     "execution_count": 18,
     "metadata": {},
     "output_type": "execute_result"
    }
   ],
   "source": [
    "y_trn_os.value_counts()"
   ]
  },
  {
   "cell_type": "code",
   "execution_count": 19,
   "metadata": {},
   "outputs": [
    {
     "name": "stdout",
     "output_type": "stream",
     "text": [
      "              precision    recall  f1-score   support\n",
      "\n",
      "           0       0.92      1.00      0.96      4628\n",
      "           1       0.00      0.00      0.00       397\n",
      "\n",
      "    accuracy                           0.92      5025\n",
      "   macro avg       0.46      0.50      0.48      5025\n",
      "weighted avg       0.85      0.92      0.88      5025\n",
      "\n"
     ]
    }
   ],
   "source": [
    "# refit model...\n",
    "rc.fit(X_trn_os, y_trn_os)\n",
    "preds = rc.predict(X_val)\n",
    "proba = rc.predict_proba(X_val)[:, 1]  # probability estimates for winning.\n",
    "print(classification_report(y_val, preds))"
   ]
  },
  {
   "cell_type": "markdown",
   "metadata": {},
   "source": [
    "Over-sampling hasn't helped!  Let's have a look at the probability distibution..."
   ]
  },
  {
   "cell_type": "code",
   "execution_count": 20,
   "metadata": {},
   "outputs": [
    {
     "data": {
      "image/png": "[encoded data removed]",
      "text/plain": [
       "<Figure size 1080x360 with 1 Axes>"
      ]
     },
     "metadata": {
      "needs_background": "light"
     },
     "output_type": "display_data"
    }
   ],
   "source": [
    "plt.figure(figsize=(15, 5))\n",
    "sns.distplot(proba, hist=True, label='all probabilities')\n",
    "sns.distplot(proba[y_val==1], hist=True, label='winners probabilities')\n",
    "plt.legend()\n",
    "plt.show()"
   ]
  },
  {
   "cell_type": "markdown",
   "metadata": {},
   "source": [
    "This shows that the model is unable distinguish winners from losers.  The winners distribution is very very marginally nudged to the right."
   ]
  },
  {
   "cell_type": "markdown",
   "metadata": {},
   "source": [
    "# <font color= orange> Times up! </font> "
   ]
  },
  {
   "cell_type": "markdown",
   "metadata": {},
   "source": [
    "## Next Steps... \n",
    "\n",
    "1. I've assumed that the Forecast and Starting Price are both available and not leaking information - it would be good to have a data dictionary to confirm this.  \n",
    "2. The model above is surprising; the EDA suggests that there are some predictive features - so it might be a good idea to see if 2017 and 2018 are similar i.e. is the training accuracy/ f1-score the same?  Has the data drifted year on year?  \n",
    "3. I don't think the training data is constructed correctly at the moment - I would like to give more thought to this.  We have discrete events in the data (defined by RaceID) and I am not acknowledging this at the moment.  \n",
    "\n",
    "**Once I have the data structured correctly, I would...**\n",
    "* Generate some new features that consider the horses previous form and competitors in the race.\n",
    "* Calculate feature importances or conduct Recursive Feature Elimination to retain the better predictors and reduce model complexity/ maintenance debt.  \n",
    "* Hyper-parameter tune using a test set and make sure that the model generalises well to new data.  \n",
    "* Consider other algorithms once I have a working baseline model.\n",
    "\n",
    "**Further to point 3 above...**  \n",
    "* I wondered if I could apply softmax to the probabilities and calculate the relative probability of a horse winning within the race (as opposed to the whole dataset)? Otherwise I might predict several winners in one race!  \n",
    "* With that in mind, could I create a loss function that understands there's only one winner and therefore all others must be losers...\n"
   ]
  },
  {
   "cell_type": "markdown",
   "metadata": {},
   "source": []
  },
  {
   "cell_type": "markdown",
   "metadata": {
    "tags": []
   },
   "source": [
    "\n"
   ]
  },
  {
   "cell_type": "markdown",
   "metadata": {},
   "source": [
    "## Feature importances"
   ]
  },
  {
   "cell_type": "code",
   "execution_count": null,
   "metadata": {},
   "outputs": [],
   "source": []
  },
  {
   "cell_type": "code",
   "execution_count": null,
   "metadata": {},
   "outputs": [],
   "source": []
  },
  {
   "cell_type": "markdown",
   "metadata": {},
   "source": [
    "## Softmax"
   ]
  },
  {
   "cell_type": "code",
   "execution_count": 110,
   "metadata": {},
   "outputs": [],
   "source": [
    "def softmax(x):\n",
    "    \"\"\"Compute softmax values for each sets of scores in x.\n",
    "    \"\"\"\n",
    "    return np.exp(x) / np.sum(np.exp(x), axis=0)"
   ]
  }
 ],
 "metadata": {
  "kernelspec": {
   "display_name": "Python 3",
   "language": "python",
   "name": "python3"
  },
  "language_info": {
   "codemirror_mode": {
    "name": "ipython",
    "version": 3
   },
   "file_extension": ".py",
   "mimetype": "text/x-python",
   "name": "python",
   "nbconvert_exporter": "python",
   "pygments_lexer": "ipython3",
   "version": "3.7.3"
  }
 },
 "nbformat": 4,
 "nbformat_minor": 4
}
