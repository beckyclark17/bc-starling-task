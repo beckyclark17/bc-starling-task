{
 "cells": [
  {
   "cell_type": "markdown",
   "metadata": {},
   "source": [
    "# Starling Fraud DS Task  "
   ]
  },
  {
   "cell_type": "markdown",
   "metadata": {},
   "source": [
    "## Intro  \n",
    "You are the first person with access to this data and as such are tasked with completing some **exploratory analysis and data visualisation** before creating a model to **predict the winner of the race**  \n",
    "\n",
    "This piece of work represents some **adhoc analysis and a first draft** model attempt. The idea is to discuss some of your analysis and output in our discussion so the aim of this exercise is more to **facilitate our discussion** than to produce a perfect set of results. As such, please do not spend more than 90 minutes in total on these tasks. \n",
    "\n",
    "The output of this work will need to be understood by other data scientists and should be useful for any future projects using this data. As such, please provide appropriate annotations/commentary so that the work can be easily followed. \n",
    "\n",
    "You are free to use any tools at your disposal for these tasks but it will need to be reproducible by us in order to assess it. Ideally the model would be in the form of a python/R notebook but if you would prefer to use other tools or link to any other open source data, please do so."
   ]
  },
  {
   "cell_type": "markdown",
   "metadata": {},
   "source": [
    "## Libraries"
   ]
  },
  {
   "cell_type": "code",
   "execution_count": 12,
   "metadata": {},
   "outputs": [],
   "source": [
    "%matplotlib inline\n",
    "%load_ext autoreload\n",
    "%autoreload 2"
   ]
  },
  {
   "cell_type": "code",
   "execution_count": 13,
   "metadata": {},
   "outputs": [],
   "source": [
    "import pandas as pd\n",
    "import numpy as np\n",
    "import seaborn as sns\n",
    "import matplotlib.pyplot as plt\n",
    "import calendar as cal"
   ]
  },
  {
   "cell_type": "code",
   "execution_count": 14,
   "metadata": {},
   "outputs": [],
   "source": [
    "import os, sys\n",
    "sys.path.append('/Users/vi4863/Desktop/Projects/bc-starling-task/src')"
   ]
  },
  {
   "cell_type": "code",
   "execution_count": 15,
   "metadata": {},
   "outputs": [],
   "source": [
    "# from src import test"
   ]
  },
  {
   "cell_type": "code",
   "execution_count": 16,
   "metadata": {},
   "outputs": [],
   "source": [
    "pd.options.display.float_format = '{:.4f}'.format"
   ]
  },
  {
   "cell_type": "code",
   "execution_count": 17,
   "metadata": {},
   "outputs": [],
   "source": [
    "%load_ext pycodestyle_magic\n",
    "%pycodestyle_on"
   ]
  },
  {
   "cell_type": "markdown",
   "metadata": {},
   "source": [
    "## Task 1 Data Visualisation:  \n",
    "(45 Minutes Max)\n",
    "\n",
    "Consider the best way to visualise this data. \n",
    "\n",
    "1) Create some key components that may be used within a data visualisation dashboard to present your analysis to other data scientists and/or a wider audience.  \n",
    "2) As you explore the data, please note down any questions or concerns that come to mind, along with any insights and conclusions that you are able to draw using the visualisation components that you have built.\n"
   ]
  },
  {
   "cell_type": "markdown",
   "metadata": {},
   "source": [
    "### Get Data"
   ]
  },
  {
   "cell_type": "code",
   "execution_count": 18,
   "metadata": {},
   "outputs": [],
   "source": [
    "data_path = \"../data/Horses.csv\"\n",
    "df = pd.read_csv(data_path)"
   ]
  },
  {
   "cell_type": "markdown",
   "metadata": {},
   "source": [
    "### First Look"
   ]
  },
  {
   "cell_type": "code",
   "execution_count": 19,
   "metadata": {},
   "outputs": [],
   "source": [
    "pd.set_option('display.max_columns', df.shape[1])"
   ]
  },
  {
   "cell_type": "code",
   "execution_count": 20,
   "metadata": {},
   "outputs": [
    {
     "data": {
      "text/plain": [
       "(36819, 46)"
      ]
     },
     "execution_count": 20,
     "metadata": {},
     "output_type": "execute_result"
    }
   ],
   "source": [
    "df.shape"
   ]
  },
  {
   "cell_type": "code",
   "execution_count": 21,
   "metadata": {},
   "outputs": [
    {
     "data": {
      "text/html": [
       "<div>\n",
       "<style scoped>\n",
       "    .dataframe tbody tr th:only-of-type {\n",
       "        vertical-align: middle;\n",
       "    }\n",
       "\n",
       "    .dataframe tbody tr th {\n",
       "        vertical-align: top;\n",
       "    }\n",
       "\n",
       "    .dataframe thead th {\n",
       "        text-align: right;\n",
       "    }\n",
       "</style>\n",
       "<table border=\"1\" class=\"dataframe\">\n",
       "  <thead>\n",
       "    <tr style=\"text-align: right;\">\n",
       "      <th></th>\n",
       "      <th>RaceID</th>\n",
       "      <th>HorseID</th>\n",
       "      <th>Cloth</th>\n",
       "      <th>Stall</th>\n",
       "      <th>WeightValue</th>\n",
       "      <th>JockeyID</th>\n",
       "      <th>AllowanceValue</th>\n",
       "      <th>OverweightValue</th>\n",
       "      <th>TrainerID</th>\n",
       "      <th>OwnerID</th>\n",
       "      <th>LastRunDaysFlat</th>\n",
       "      <th>Age</th>\n",
       "      <th>Blinkers</th>\n",
       "      <th>Hood</th>\n",
       "      <th>Visor</th>\n",
       "      <th>EyeShield</th>\n",
       "      <th>Eyecover</th>\n",
       "      <th>TongueStrap</th>\n",
       "      <th>CheekPieces</th>\n",
       "      <th>ForecastPrice</th>\n",
       "      <th>StatCourse</th>\n",
       "      <th>StatDistance</th>\n",
       "      <th>StatCourseDistance</th>\n",
       "      <th>StartingPrice</th>\n",
       "      <th>Bred</th>\n",
       "      <th>DamID</th>\n",
       "      <th>SireID</th>\n",
       "      <th>DamSireID</th>\n",
       "      <th>Sex</th>\n",
       "      <th>Colour</th>\n",
       "      <th>YearBorn</th>\n",
       "      <th>MeetingID</th>\n",
       "      <th>RaceNumber</th>\n",
       "      <th>ScheduledTime</th>\n",
       "      <th>HorseCount</th>\n",
       "      <th>Runners</th>\n",
       "      <th>Going</th>\n",
       "      <th>Weather</th>\n",
       "      <th>Course_Distance</th>\n",
       "      <th>RaceType</th>\n",
       "      <th>TrackType</th>\n",
       "      <th>Handicap</th>\n",
       "      <th>eligibility</th>\n",
       "      <th>CourseID</th>\n",
       "      <th>MeetingDate</th>\n",
       "      <th>Won</th>\n",
       "    </tr>\n",
       "  </thead>\n",
       "  <tbody>\n",
       "    <tr>\n",
       "      <th>0</th>\n",
       "      <td>989418</td>\n",
       "      <td>2963489</td>\n",
       "      <td>7</td>\n",
       "      <td>5.0000</td>\n",
       "      <td>132</td>\n",
       "      <td>1398052.0000</td>\n",
       "      <td>nan</td>\n",
       "      <td>nan</td>\n",
       "      <td>1198534</td>\n",
       "      <td>1289143.0000</td>\n",
       "      <td>26.0000</td>\n",
       "      <td>3.0000</td>\n",
       "      <td>nan</td>\n",
       "      <td>nan</td>\n",
       "      <td>nan</td>\n",
       "      <td>nan</td>\n",
       "      <td>nan</td>\n",
       "      <td>nan</td>\n",
       "      <td>nan</td>\n",
       "      <td>16-Jan</td>\n",
       "      <td>nan</td>\n",
       "      <td>nan</td>\n",
       "      <td>nan</td>\n",
       "      <td>12-Jan</td>\n",
       "      <td>SAF</td>\n",
       "      <td>2803520.0000</td>\n",
       "      <td>2004880.0000</td>\n",
       "      <td>2179351.0000</td>\n",
       "      <td>f</td>\n",
       "      <td>b</td>\n",
       "      <td>nan</td>\n",
       "      <td>87048</td>\n",
       "      <td>1</td>\n",
       "      <td>##########</td>\n",
       "      <td>13</td>\n",
       "      <td>11.0000</td>\n",
       "      <td>Good</td>\n",
       "      <td>Cloudy</td>\n",
       "      <td>1312</td>\n",
       "      <td>Flat</td>\n",
       "      <td>Turf</td>\n",
       "      <td>nan</td>\n",
       "      <td>2YO only</td>\n",
       "      <td>380</td>\n",
       "      <td>02/05/2017</td>\n",
       "      <td>0</td>\n",
       "    </tr>\n",
       "    <tr>\n",
       "      <th>1</th>\n",
       "      <td>989418</td>\n",
       "      <td>2972665</td>\n",
       "      <td>13</td>\n",
       "      <td>6.0000</td>\n",
       "      <td>132</td>\n",
       "      <td>1165412.0000</td>\n",
       "      <td>nan</td>\n",
       "      <td>nan</td>\n",
       "      <td>1188128</td>\n",
       "      <td>1140080.0000</td>\n",
       "      <td>nan</td>\n",
       "      <td>3.0000</td>\n",
       "      <td>nan</td>\n",
       "      <td>nan</td>\n",
       "      <td>nan</td>\n",
       "      <td>nan</td>\n",
       "      <td>nan</td>\n",
       "      <td>nan</td>\n",
       "      <td>nan</td>\n",
       "      <td>20-Jan</td>\n",
       "      <td>nan</td>\n",
       "      <td>nan</td>\n",
       "      <td>nan</td>\n",
       "      <td>40/1</td>\n",
       "      <td>SAF</td>\n",
       "      <td>2749301.0000</td>\n",
       "      <td>2960049.0000</td>\n",
       "      <td>2001540.0000</td>\n",
       "      <td>f</td>\n",
       "      <td>b</td>\n",
       "      <td>nan</td>\n",
       "      <td>87048</td>\n",
       "      <td>1</td>\n",
       "      <td>##########</td>\n",
       "      <td>13</td>\n",
       "      <td>11.0000</td>\n",
       "      <td>Good</td>\n",
       "      <td>Cloudy</td>\n",
       "      <td>1312</td>\n",
       "      <td>Flat</td>\n",
       "      <td>Turf</td>\n",
       "      <td>nan</td>\n",
       "      <td>2YO only</td>\n",
       "      <td>380</td>\n",
       "      <td>02/05/2017</td>\n",
       "      <td>0</td>\n",
       "    </tr>\n",
       "    <tr>\n",
       "      <th>2</th>\n",
       "      <td>989418</td>\n",
       "      <td>2972662</td>\n",
       "      <td>9</td>\n",
       "      <td>7.0000</td>\n",
       "      <td>132</td>\n",
       "      <td>1239852.0000</td>\n",
       "      <td>nan</td>\n",
       "      <td>nan</td>\n",
       "      <td>1199122</td>\n",
       "      <td>1448576.0000</td>\n",
       "      <td>nan</td>\n",
       "      <td>3.0000</td>\n",
       "      <td>nan</td>\n",
       "      <td>nan</td>\n",
       "      <td>nan</td>\n",
       "      <td>nan</td>\n",
       "      <td>nan</td>\n",
       "      <td>nan</td>\n",
       "      <td>nan</td>\n",
       "      <td>10-Jan</td>\n",
       "      <td>nan</td>\n",
       "      <td>nan</td>\n",
       "      <td>nan</td>\n",
       "      <td>NaN</td>\n",
       "      <td>SAF</td>\n",
       "      <td>2761722.0000</td>\n",
       "      <td>2441786.0000</td>\n",
       "      <td>2123459.0000</td>\n",
       "      <td>f</td>\n",
       "      <td>b</td>\n",
       "      <td>nan</td>\n",
       "      <td>87048</td>\n",
       "      <td>1</td>\n",
       "      <td>##########</td>\n",
       "      <td>13</td>\n",
       "      <td>11.0000</td>\n",
       "      <td>Good</td>\n",
       "      <td>Cloudy</td>\n",
       "      <td>1312</td>\n",
       "      <td>Flat</td>\n",
       "      <td>Turf</td>\n",
       "      <td>nan</td>\n",
       "      <td>2YO only</td>\n",
       "      <td>380</td>\n",
       "      <td>02/05/2017</td>\n",
       "      <td>0</td>\n",
       "    </tr>\n",
       "    <tr>\n",
       "      <th>3</th>\n",
       "      <td>989418</td>\n",
       "      <td>2960365</td>\n",
       "      <td>1</td>\n",
       "      <td>12.0000</td>\n",
       "      <td>132</td>\n",
       "      <td>1417524.0000</td>\n",
       "      <td>nan</td>\n",
       "      <td>nan</td>\n",
       "      <td>1049637</td>\n",
       "      <td>1487690.0000</td>\n",
       "      <td>33.0000</td>\n",
       "      <td>3.0000</td>\n",
       "      <td>nan</td>\n",
       "      <td>nan</td>\n",
       "      <td>nan</td>\n",
       "      <td>nan</td>\n",
       "      <td>nan</td>\n",
       "      <td>nan</td>\n",
       "      <td>nan</td>\n",
       "      <td>07-Apr</td>\n",
       "      <td>nan</td>\n",
       "      <td>nan</td>\n",
       "      <td>nan</td>\n",
       "      <td>11-Oct</td>\n",
       "      <td>SAF</td>\n",
       "      <td>2347111.0000</td>\n",
       "      <td>2170013.0000</td>\n",
       "      <td>2071137.0000</td>\n",
       "      <td>f</td>\n",
       "      <td>b</td>\n",
       "      <td>nan</td>\n",
       "      <td>87048</td>\n",
       "      <td>1</td>\n",
       "      <td>##########</td>\n",
       "      <td>13</td>\n",
       "      <td>11.0000</td>\n",
       "      <td>Good</td>\n",
       "      <td>Cloudy</td>\n",
       "      <td>1312</td>\n",
       "      <td>Flat</td>\n",
       "      <td>Turf</td>\n",
       "      <td>nan</td>\n",
       "      <td>2YO only</td>\n",
       "      <td>380</td>\n",
       "      <td>02/05/2017</td>\n",
       "      <td>1</td>\n",
       "    </tr>\n",
       "    <tr>\n",
       "      <th>4</th>\n",
       "      <td>989418</td>\n",
       "      <td>2968596</td>\n",
       "      <td>11</td>\n",
       "      <td>8.0000</td>\n",
       "      <td>132</td>\n",
       "      <td>1354773.0000</td>\n",
       "      <td>nan</td>\n",
       "      <td>nan</td>\n",
       "      <td>1140041</td>\n",
       "      <td>1403676.0000</td>\n",
       "      <td>24.0000</td>\n",
       "      <td>3.0000</td>\n",
       "      <td>nan</td>\n",
       "      <td>nan</td>\n",
       "      <td>nan</td>\n",
       "      <td>nan</td>\n",
       "      <td>nan</td>\n",
       "      <td>nan</td>\n",
       "      <td>nan</td>\n",
       "      <td>08-Jan</td>\n",
       "      <td>nan</td>\n",
       "      <td>nan</td>\n",
       "      <td>nan</td>\n",
       "      <td>NaN</td>\n",
       "      <td>SAF</td>\n",
       "      <td>2618721.0000</td>\n",
       "      <td>2410998.0000</td>\n",
       "      <td>2170115.0000</td>\n",
       "      <td>f</td>\n",
       "      <td>b</td>\n",
       "      <td>nan</td>\n",
       "      <td>87048</td>\n",
       "      <td>1</td>\n",
       "      <td>##########</td>\n",
       "      <td>13</td>\n",
       "      <td>11.0000</td>\n",
       "      <td>Good</td>\n",
       "      <td>Cloudy</td>\n",
       "      <td>1312</td>\n",
       "      <td>Flat</td>\n",
       "      <td>Turf</td>\n",
       "      <td>nan</td>\n",
       "      <td>2YO only</td>\n",
       "      <td>380</td>\n",
       "      <td>02/05/2017</td>\n",
       "      <td>0</td>\n",
       "    </tr>\n",
       "  </tbody>\n",
       "</table>\n",
       "</div>"
      ],
      "text/plain": [
       "   RaceID  HorseID  Cloth   Stall  WeightValue     JockeyID  AllowanceValue  \\\n",
       "0  989418  2963489      7  5.0000          132 1398052.0000             nan   \n",
       "1  989418  2972665     13  6.0000          132 1165412.0000             nan   \n",
       "2  989418  2972662      9  7.0000          132 1239852.0000             nan   \n",
       "3  989418  2960365      1 12.0000          132 1417524.0000             nan   \n",
       "4  989418  2968596     11  8.0000          132 1354773.0000             nan   \n",
       "\n",
       "   OverweightValue  TrainerID      OwnerID  LastRunDaysFlat    Age  Blinkers  \\\n",
       "0              nan    1198534 1289143.0000          26.0000 3.0000       nan   \n",
       "1              nan    1188128 1140080.0000              nan 3.0000       nan   \n",
       "2              nan    1199122 1448576.0000              nan 3.0000       nan   \n",
       "3              nan    1049637 1487690.0000          33.0000 3.0000       nan   \n",
       "4              nan    1140041 1403676.0000          24.0000 3.0000       nan   \n",
       "\n",
       "   Hood  Visor  EyeShield  Eyecover  TongueStrap  CheekPieces ForecastPrice  \\\n",
       "0   nan    nan        nan       nan          nan          nan        16-Jan   \n",
       "1   nan    nan        nan       nan          nan          nan        20-Jan   \n",
       "2   nan    nan        nan       nan          nan          nan        10-Jan   \n",
       "3   nan    nan        nan       nan          nan          nan        07-Apr   \n",
       "4   nan    nan        nan       nan          nan          nan        08-Jan   \n",
       "\n",
       "   StatCourse  StatDistance  StatCourseDistance StartingPrice Bred  \\\n",
       "0         nan           nan                 nan        12-Jan  SAF   \n",
       "1         nan           nan                 nan          40/1  SAF   \n",
       "2         nan           nan                 nan           NaN  SAF   \n",
       "3         nan           nan                 nan        11-Oct  SAF   \n",
       "4         nan           nan                 nan           NaN  SAF   \n",
       "\n",
       "         DamID       SireID    DamSireID Sex Colour  YearBorn  MeetingID  \\\n",
       "0 2803520.0000 2004880.0000 2179351.0000   f      b       nan      87048   \n",
       "1 2749301.0000 2960049.0000 2001540.0000   f      b       nan      87048   \n",
       "2 2761722.0000 2441786.0000 2123459.0000   f      b       nan      87048   \n",
       "3 2347111.0000 2170013.0000 2071137.0000   f      b       nan      87048   \n",
       "4 2618721.0000 2410998.0000 2170115.0000   f      b       nan      87048   \n",
       "\n",
       "   RaceNumber ScheduledTime  HorseCount  Runners Going Weather  \\\n",
       "0           1    ##########          13  11.0000  Good  Cloudy   \n",
       "1           1    ##########          13  11.0000  Good  Cloudy   \n",
       "2           1    ##########          13  11.0000  Good  Cloudy   \n",
       "3           1    ##########          13  11.0000  Good  Cloudy   \n",
       "4           1    ##########          13  11.0000  Good  Cloudy   \n",
       "\n",
       "   Course_Distance RaceType TrackType  Handicap eligibility  CourseID  \\\n",
       "0             1312     Flat      Turf       nan    2YO only       380   \n",
       "1             1312     Flat      Turf       nan    2YO only       380   \n",
       "2             1312     Flat      Turf       nan    2YO only       380   \n",
       "3             1312     Flat      Turf       nan    2YO only       380   \n",
       "4             1312     Flat      Turf       nan    2YO only       380   \n",
       "\n",
       "  MeetingDate  Won  \n",
       "0  02/05/2017    0  \n",
       "1  02/05/2017    0  \n",
       "2  02/05/2017    0  \n",
       "3  02/05/2017    1  \n",
       "4  02/05/2017    0  "
      ]
     },
     "execution_count": 21,
     "metadata": {},
     "output_type": "execute_result"
    }
   ],
   "source": [
    "df.head()"
   ]
  },
  {
   "cell_type": "markdown",
   "metadata": {},
   "source": [
    "* Lots of nulls particularly variables describing tack  \n",
    "* **ForecastPrice** & **StartingPrice** look like they should be odds, but have been corrupted to a date string.  \n"
   ]
  },
  {
   "cell_type": "markdown",
   "metadata": {},
   "source": [
    "## Nulls"
   ]
  },
  {
   "cell_type": "code",
   "execution_count": 22,
   "metadata": {},
   "outputs": [
    {
     "data": {
      "image/png": "[encoded data removed]",
      "text/plain": [
       "<Figure size 1296x360 with 1 Axes>"
      ]
     },
     "metadata": {
      "needs_background": "light"
     },
     "output_type": "display_data"
    },
    {
     "name": "stderr",
     "output_type": "stream",
     "text": [
      "2:25: E128 continuation line under-indented for visual indent\n",
      "3:25: E128 continuation line under-indented for visual indent\n",
      "5:12: E124 closing bracket does not match visual indentation\n",
      "6:1: W293 blank line contains whitespace\n",
      "9:19: W291 trailing whitespace\n"
     ]
    }
   ],
   "source": [
    "missings = (pd.DataFrame(index=df.isnull().sum().index,\n",
    "                        data=df.isnull().sum().values / len(df) * 100,\n",
    "                        columns=['missing_pct'])\n",
    "            .sort_values(by='missing_pct', ascending=False)\n",
    "           )\n",
    "         \n",
    "\n",
    "plt.figure(figsize=(18, 5))\n",
    "plt.plot(missings) \n",
    "plt.title('Missing Data')\n",
    "plt.ylabel('Missing %')\n",
    "plt.xticks(rotation=45)\n",
    "plt.show()"
   ]
  },
  {
   "cell_type": "code",
   "execution_count": 23,
   "metadata": {},
   "outputs": [
    {
     "data": {
      "text/html": [
       "<div>\n",
       "<style scoped>\n",
       "    .dataframe tbody tr th:only-of-type {\n",
       "        vertical-align: middle;\n",
       "    }\n",
       "\n",
       "    .dataframe tbody tr th {\n",
       "        vertical-align: top;\n",
       "    }\n",
       "\n",
       "    .dataframe thead th {\n",
       "        text-align: right;\n",
       "    }\n",
       "</style>\n",
       "<table border=\"1\" class=\"dataframe\">\n",
       "  <thead>\n",
       "    <tr style=\"text-align: right;\">\n",
       "      <th></th>\n",
       "      <th>missing_pct</th>\n",
       "    </tr>\n",
       "  </thead>\n",
       "  <tbody>\n",
       "    <tr>\n",
       "      <th>TongueStrap</th>\n",
       "      <td>100.0000</td>\n",
       "    </tr>\n",
       "    <tr>\n",
       "      <th>CheekPieces</th>\n",
       "      <td>100.0000</td>\n",
       "    </tr>\n",
       "    <tr>\n",
       "      <th>Eyecover</th>\n",
       "      <td>100.0000</td>\n",
       "    </tr>\n",
       "    <tr>\n",
       "      <th>EyeShield</th>\n",
       "      <td>100.0000</td>\n",
       "    </tr>\n",
       "    <tr>\n",
       "      <th>Hood</th>\n",
       "      <td>100.0000</td>\n",
       "    </tr>\n",
       "    <tr>\n",
       "      <th>Visor</th>\n",
       "      <td>99.8153</td>\n",
       "    </tr>\n",
       "    <tr>\n",
       "      <th>OverweightValue</th>\n",
       "      <td>99.7121</td>\n",
       "    </tr>\n",
       "    <tr>\n",
       "      <th>AllowanceValue</th>\n",
       "      <td>95.6300</td>\n",
       "    </tr>\n",
       "    <tr>\n",
       "      <th>YearBorn</th>\n",
       "      <td>85.9855</td>\n",
       "    </tr>\n",
       "    <tr>\n",
       "      <th>StatDistance</th>\n",
       "      <td>80.6404</td>\n",
       "    </tr>\n",
       "    <tr>\n",
       "      <th>StatCourseDistance</th>\n",
       "      <td>79.7496</td>\n",
       "    </tr>\n",
       "    <tr>\n",
       "      <th>StatCourse</th>\n",
       "      <td>76.0124</td>\n",
       "    </tr>\n",
       "    <tr>\n",
       "      <th>Blinkers</th>\n",
       "      <td>71.9112</td>\n",
       "    </tr>\n",
       "  </tbody>\n",
       "</table>\n",
       "</div>"
      ],
      "text/plain": [
       "                    missing_pct\n",
       "TongueStrap            100.0000\n",
       "CheekPieces            100.0000\n",
       "Eyecover               100.0000\n",
       "EyeShield              100.0000\n",
       "Hood                   100.0000\n",
       "Visor                   99.8153\n",
       "OverweightValue         99.7121\n",
       "AllowanceValue          95.6300\n",
       "YearBorn                85.9855\n",
       "StatDistance            80.6404\n",
       "StatCourseDistance      79.7496\n",
       "StatCourse              76.0124\n",
       "Blinkers                71.9112"
      ]
     },
     "execution_count": 23,
     "metadata": {},
     "output_type": "execute_result"
    }
   ],
   "source": [
    "high_missing = missings[missings.missing_pct > 60]\n",
    "high_missing"
   ]
  },
  {
   "cell_type": "code",
   "execution_count": 24,
   "metadata": {},
   "outputs": [],
   "source": [
    "# record these cols to remove from a modelling dset.\n",
    "cols_to_remove = high_missing.index.values"
   ]
  },
  {
   "cell_type": "code",
   "execution_count": 25,
   "metadata": {},
   "outputs": [
    {
     "name": "stdout",
     "output_type": "stream",
     "text": [
      "nan       19413\n",
      "1.0000    17347\n",
      "0.0000       59\n",
      "Name: Handicap, dtype: int64\n"
     ]
    }
   ],
   "source": [
    "# handicap has a lot of nulls, so taking a look to see how to deal with nulls\n",
    "print(df.Handicap.value_counts(dropna=False))\n",
    "\n",
    "# will replaces nulls with zero...\n",
    "df['Handicap'] = df['Handicap'].fillna(0)"
   ]
  },
  {
   "cell_type": "markdown",
   "metadata": {},
   "source": [
    "## Correct prices"
   ]
  },
  {
   "cell_type": "code",
   "execution_count": 26,
   "metadata": {},
   "outputs": [
    {
     "name": "stdout",
     "output_type": "stream",
     "text": [
      "ForecastPrice    object\n",
      "StartingPrice    object\n",
      "dtype: object\n"
     ]
    }
   ],
   "source": [
    "# Fix prices as they're the odds and will be super useful for modelling!\n",
    "prices = [col for col in df.columns if 'price' in col.lower()]\n",
    "\n",
    "print(df[prices].dtypes)"
   ]
  },
  {
   "cell_type": "code",
   "execution_count": 115,
   "metadata": {},
   "outputs": [],
   "source": [
    "# create a month string to integer lookup...\n",
    "cal_dict = dict(enumerate(cal.month_abbr))\n",
    "# flip dictionary keys and values round the right way for mapping.\n",
    "cal_dict = {v: k for (k, v) in cal_dict.items()}\n",
    "\n",
    "\n",
    "def correct_prices(col: str, split_char: str) -> pd.Series:\n",
    "    \"\"\"Convert price column to a decimal.\n",
    "    Parameters\n",
    "    ----------\n",
    "    col: str\n",
    "        name of column containing prices to correct\n",
    "    split_char: str\n",
    "        the character used to split the column\n",
    "    \"\"\"\n",
    "    has_char = df[col].str.contains(split_char)\n",
    "\n",
    "    split_vals = (df[col]\n",
    "                  [has_char.fillna(False)]\n",
    "                  .str.split(split_char))\n",
    "\n",
    "    numer, denom = split_vals.str[0], split_vals.str[1]\n",
    "    denom_int = denom.map(cal_dict)\n",
    "\n",
    "    numer.value_counts()  # found \"Aug\"!\n",
    "    numer = numer.replace('Aug', '8').astype(int)\n",
    "\n",
    "    return numer / denom_int"
   ]
  },
  {
   "cell_type": "code",
   "execution_count": 116,
   "metadata": {},
   "outputs": [],
   "source": [
    "hyphens_corrected = correct_prices('StartingPrice', '-')"
   ]
  },
  {
   "cell_type": "markdown",
   "metadata": {},
   "source": [
    "## CONT HERE"
   ]
  },
  {
   "cell_type": "code",
   "execution_count": 117,
   "metadata": {},
   "outputs": [],
   "source": [
    "# this hasn't worked...\n",
    "slashes_corrected = correct_prices('StartingPrice', '/')"
   ]
  },
  {
   "cell_type": "code",
   "execution_count": 121,
   "metadata": {},
   "outputs": [
    {
     "data": {
      "text/plain": [
       "Series([], Name: StartingPrice, dtype: float64)"
      ]
     },
     "execution_count": 121,
     "metadata": {},
     "output_type": "execute_result"
    }
   ],
   "source": [
    "nulls = slashes_corrected.isnull()\n",
    "\n",
    "slashes_corrected[~nulls]"
   ]
  },
  {
   "cell_type": "code",
   "execution_count": 152,
   "metadata": {},
   "outputs": [
    {
     "data": {
      "text/plain": [
       "100.0"
      ]
     },
     "execution_count": 152,
     "metadata": {},
     "output_type": "execute_result"
    }
   ],
   "source": [
    "40/1\n",
    "11/10\n",
    "\n",
    "100/1\n"
   ]
  },
  {
   "cell_type": "markdown",
   "metadata": {},
   "source": [
    "### Taking a look at the ID variables, are these discrete values useful?"
   ]
  },
  {
   "cell_type": "code",
   "execution_count": 29,
   "metadata": {},
   "outputs": [
    {
     "data": {
      "text/plain": [
       "['RaceID',\n",
       " 'HorseID',\n",
       " 'JockeyID',\n",
       " 'TrainerID',\n",
       " 'OwnerID',\n",
       " 'DamID',\n",
       " 'SireID',\n",
       " 'DamSireID',\n",
       " 'MeetingID',\n",
       " 'CourseID']"
      ]
     },
     "execution_count": 29,
     "metadata": {},
     "output_type": "execute_result"
    }
   ],
   "source": [
    "# grabbing discrete ID vars\n",
    "\n",
    "id_cols = [col for col in df.columns if 'id' in col.lower()]\n",
    "id_cols"
   ]
  },
  {
   "cell_type": "code",
   "execution_count": 39,
   "metadata": {},
   "outputs": [
    {
     "name": "stdout",
     "output_type": "stream",
     "text": [
      "RaceID: 3000\n",
      "HorseID: 6064\n",
      "JockeyID: 249\n",
      "TrainerID: 160\n",
      "OwnerID: 3078\n",
      "DamID: 4182\n",
      "SireID: 297\n",
      "DamSireID: 734\n",
      "MeetingID: 344\n",
      "CourseID: 8\n"
     ]
    }
   ],
   "source": [
    "for col in id_cols:\n",
    "    print(f\"\"\"{col}: {len(df[col].unique())}\"\"\")\n",
    "    "
   ]
  },
  {
   "cell_type": "code",
   "execution_count": 30,
   "metadata": {},
   "outputs": [
    {
     "data": {
      "text/html": [
       "<div>\n",
       "<style scoped>\n",
       "    .dataframe tbody tr th:only-of-type {\n",
       "        vertical-align: middle;\n",
       "    }\n",
       "\n",
       "    .dataframe tbody tr th {\n",
       "        vertical-align: top;\n",
       "    }\n",
       "\n",
       "    .dataframe thead th {\n",
       "        text-align: right;\n",
       "    }\n",
       "</style>\n",
       "<table border=\"1\" class=\"dataframe\">\n",
       "  <thead>\n",
       "    <tr style=\"text-align: right;\">\n",
       "      <th></th>\n",
       "      <th>RaceID</th>\n",
       "      <th>HorseID</th>\n",
       "      <th>JockeyID</th>\n",
       "      <th>TrainerID</th>\n",
       "      <th>OwnerID</th>\n",
       "      <th>DamID</th>\n",
       "      <th>SireID</th>\n",
       "      <th>DamSireID</th>\n",
       "      <th>MeetingID</th>\n",
       "      <th>CourseID</th>\n",
       "    </tr>\n",
       "  </thead>\n",
       "  <tbody>\n",
       "    <tr>\n",
       "      <th>0</th>\n",
       "      <td>989418</td>\n",
       "      <td>2963489</td>\n",
       "      <td>1398052.0</td>\n",
       "      <td>1198534</td>\n",
       "      <td>1289143.0</td>\n",
       "      <td>2803520.0</td>\n",
       "      <td>2004880.0</td>\n",
       "      <td>2179351.0</td>\n",
       "      <td>87048</td>\n",
       "      <td>380</td>\n",
       "    </tr>\n",
       "    <tr>\n",
       "      <th>1</th>\n",
       "      <td>989418</td>\n",
       "      <td>2972665</td>\n",
       "      <td>1165412.0</td>\n",
       "      <td>1188128</td>\n",
       "      <td>1140080.0</td>\n",
       "      <td>2749301.0</td>\n",
       "      <td>2960049.0</td>\n",
       "      <td>2001540.0</td>\n",
       "      <td>87048</td>\n",
       "      <td>380</td>\n",
       "    </tr>\n",
       "    <tr>\n",
       "      <th>2</th>\n",
       "      <td>989418</td>\n",
       "      <td>2972662</td>\n",
       "      <td>1239852.0</td>\n",
       "      <td>1199122</td>\n",
       "      <td>1448576.0</td>\n",
       "      <td>2761722.0</td>\n",
       "      <td>2441786.0</td>\n",
       "      <td>2123459.0</td>\n",
       "      <td>87048</td>\n",
       "      <td>380</td>\n",
       "    </tr>\n",
       "    <tr>\n",
       "      <th>3</th>\n",
       "      <td>989418</td>\n",
       "      <td>2960365</td>\n",
       "      <td>1417524.0</td>\n",
       "      <td>1049637</td>\n",
       "      <td>1487690.0</td>\n",
       "      <td>2347111.0</td>\n",
       "      <td>2170013.0</td>\n",
       "      <td>2071137.0</td>\n",
       "      <td>87048</td>\n",
       "      <td>380</td>\n",
       "    </tr>\n",
       "    <tr>\n",
       "      <th>4</th>\n",
       "      <td>989418</td>\n",
       "      <td>2968596</td>\n",
       "      <td>1354773.0</td>\n",
       "      <td>1140041</td>\n",
       "      <td>1403676.0</td>\n",
       "      <td>2618721.0</td>\n",
       "      <td>2410998.0</td>\n",
       "      <td>2170115.0</td>\n",
       "      <td>87048</td>\n",
       "      <td>380</td>\n",
       "    </tr>\n",
       "    <tr>\n",
       "      <th>...</th>\n",
       "      <td>...</td>\n",
       "      <td>...</td>\n",
       "      <td>...</td>\n",
       "      <td>...</td>\n",
       "      <td>...</td>\n",
       "      <td>...</td>\n",
       "      <td>...</td>\n",
       "      <td>...</td>\n",
       "      <td>...</td>\n",
       "      <td>...</td>\n",
       "    </tr>\n",
       "    <tr>\n",
       "      <th>36814</th>\n",
       "      <td>1028128</td>\n",
       "      <td>2980319</td>\n",
       "      <td>1165412.0</td>\n",
       "      <td>1079200</td>\n",
       "      <td>1492946.0</td>\n",
       "      <td>2626929.0</td>\n",
       "      <td>2005847.0</td>\n",
       "      <td>2167985.0</td>\n",
       "      <td>91584</td>\n",
       "      <td>325</td>\n",
       "    </tr>\n",
       "    <tr>\n",
       "      <th>36815</th>\n",
       "      <td>1028128</td>\n",
       "      <td>2985033</td>\n",
       "      <td>1079281.0</td>\n",
       "      <td>1403297</td>\n",
       "      <td>1494400.0</td>\n",
       "      <td>2632498.0</td>\n",
       "      <td>2058573.0</td>\n",
       "      <td>2000564.0</td>\n",
       "      <td>91584</td>\n",
       "      <td>325</td>\n",
       "    </tr>\n",
       "    <tr>\n",
       "      <th>36816</th>\n",
       "      <td>1028128</td>\n",
       "      <td>2977403</td>\n",
       "      <td>1440495.0</td>\n",
       "      <td>1079200</td>\n",
       "      <td>1482459.0</td>\n",
       "      <td>2653726.0</td>\n",
       "      <td>2854936.0</td>\n",
       "      <td>2264809.0</td>\n",
       "      <td>91584</td>\n",
       "      <td>325</td>\n",
       "    </tr>\n",
       "    <tr>\n",
       "      <th>36817</th>\n",
       "      <td>1028128</td>\n",
       "      <td>2978297</td>\n",
       "      <td>1288634.0</td>\n",
       "      <td>1079234</td>\n",
       "      <td>1492370.0</td>\n",
       "      <td>2736480.0</td>\n",
       "      <td>2699207.0</td>\n",
       "      <td>2705498.0</td>\n",
       "      <td>91584</td>\n",
       "      <td>325</td>\n",
       "    </tr>\n",
       "    <tr>\n",
       "      <th>36818</th>\n",
       "      <td>1028128</td>\n",
       "      <td>3007603</td>\n",
       "      <td>1200677.0</td>\n",
       "      <td>1491252</td>\n",
       "      <td>1290304.0</td>\n",
       "      <td>2618887.0</td>\n",
       "      <td>2345894.0</td>\n",
       "      <td>2129959.0</td>\n",
       "      <td>91584</td>\n",
       "      <td>325</td>\n",
       "    </tr>\n",
       "  </tbody>\n",
       "</table>\n",
       "<p>36819 rows × 10 columns</p>\n",
       "</div>"
      ],
      "text/plain": [
       "        RaceID  HorseID   JockeyID TrainerID    OwnerID      DamID     SireID  \\\n",
       "0       989418  2963489  1398052.0   1198534  1289143.0  2803520.0  2004880.0   \n",
       "1       989418  2972665  1165412.0   1188128  1140080.0  2749301.0  2960049.0   \n",
       "2       989418  2972662  1239852.0   1199122  1448576.0  2761722.0  2441786.0   \n",
       "3       989418  2960365  1417524.0   1049637  1487690.0  2347111.0  2170013.0   \n",
       "4       989418  2968596  1354773.0   1140041  1403676.0  2618721.0  2410998.0   \n",
       "...        ...      ...        ...       ...        ...        ...        ...   \n",
       "36814  1028128  2980319  1165412.0   1079200  1492946.0  2626929.0  2005847.0   \n",
       "36815  1028128  2985033  1079281.0   1403297  1494400.0  2632498.0  2058573.0   \n",
       "36816  1028128  2977403  1440495.0   1079200  1482459.0  2653726.0  2854936.0   \n",
       "36817  1028128  2978297  1288634.0   1079234  1492370.0  2736480.0  2699207.0   \n",
       "36818  1028128  3007603  1200677.0   1491252  1290304.0  2618887.0  2345894.0   \n",
       "\n",
       "       DamSireID MeetingID CourseID  \n",
       "0      2179351.0     87048      380  \n",
       "1      2001540.0     87048      380  \n",
       "2      2123459.0     87048      380  \n",
       "3      2071137.0     87048      380  \n",
       "4      2170115.0     87048      380  \n",
       "...          ...       ...      ...  \n",
       "36814  2167985.0     91584      325  \n",
       "36815  2000564.0     91584      325  \n",
       "36816  2264809.0     91584      325  \n",
       "36817  2705498.0     91584      325  \n",
       "36818  2129959.0     91584      325  \n",
       "\n",
       "[36819 rows x 10 columns]"
      ]
     },
     "execution_count": 30,
     "metadata": {},
     "output_type": "execute_result"
    }
   ],
   "source": [
    "# let's convert the ID's to string as they're discrete.\n",
    "df[id_cols].astype(str)"
   ]
  },
  {
   "cell_type": "code",
   "execution_count": 21,
   "metadata": {},
   "outputs": [
    {
     "data": {
      "text/plain": [
       "RaceID                  int64\n",
       "HorseID                 int64\n",
       "Cloth                   int64\n",
       "Stall                 float64\n",
       "WeightValue             int64\n",
       "JockeyID              float64\n",
       "AllowanceValue        float64\n",
       "OverweightValue       float64\n",
       "TrainerID               int64\n",
       "OwnerID               float64\n",
       "LastRunDaysFlat       float64\n",
       "Age                   float64\n",
       "Blinkers              float64\n",
       "Hood                  float64\n",
       "Visor                 float64\n",
       "EyeShield             float64\n",
       "Eyecover              float64\n",
       "TongueStrap           float64\n",
       "CheekPieces           float64\n",
       "ForecastPrice          object\n",
       "StatCourse            float64\n",
       "StatDistance          float64\n",
       "StatCourseDistance    float64\n",
       "StartingPrice          object\n",
       "Bred                   object\n",
       "DamID                 float64\n",
       "SireID                float64\n",
       "DamSireID             float64\n",
       "Sex                    object\n",
       "Colour                 object\n",
       "YearBorn              float64\n",
       "MeetingID               int64\n",
       "RaceNumber              int64\n",
       "ScheduledTime          object\n",
       "HorseCount              int64\n",
       "Runners               float64\n",
       "Going                  object\n",
       "Weather                object\n",
       "Course_Distance         int64\n",
       "RaceType               object\n",
       "TrackType              object\n",
       "Handicap              float64\n",
       "eligibility            object\n",
       "CourseID                int64\n",
       "MeetingDate            object\n",
       "Won                     int64\n",
       "dtype: object"
      ]
     },
     "execution_count": 21,
     "metadata": {},
     "output_type": "execute_result"
    }
   ],
   "source": [
    "df.dtypes"
   ]
  },
  {
   "cell_type": "markdown",
   "metadata": {},
   "source": [
    "## Categorical variables...  \n",
    "(are they all IDs?)"
   ]
  },
  {
   "cell_type": "code",
   "execution_count": 112,
   "metadata": {},
   "outputs": [],
   "source": [
    "cats = df.select_dtypes('object').columns"
   ]
  },
  {
   "cell_type": "code",
   "execution_count": 122,
   "metadata": {},
   "outputs": [
    {
     "data": {
      "text/plain": [
       "Index(['ForecastPrice', 'StartingPrice', 'Bred', 'Sex', 'Colour',\n",
       "       'ScheduledTime', 'Going', 'Weather', 'RaceType', 'TrackType',\n",
       "       'eligibility', 'MeetingDate'],\n",
       "      dtype='object')"
      ]
     },
     "execution_count": 122,
     "metadata": {},
     "output_type": "execute_result"
    }
   ],
   "source": [
    "cats"
   ]
  },
  {
   "cell_type": "code",
   "execution_count": 114,
   "metadata": {},
   "outputs": [
    {
     "data": {
      "text/html": [
       "<div>\n",
       "<style scoped>\n",
       "    .dataframe tbody tr th:only-of-type {\n",
       "        vertical-align: middle;\n",
       "    }\n",
       "\n",
       "    .dataframe tbody tr th {\n",
       "        vertical-align: top;\n",
       "    }\n",
       "\n",
       "    .dataframe thead th {\n",
       "        text-align: right;\n",
       "    }\n",
       "</style>\n",
       "<table border=\"1\" class=\"dataframe\">\n",
       "  <thead>\n",
       "    <tr style=\"text-align: right;\">\n",
       "      <th></th>\n",
       "      <th>ForecastPrice</th>\n",
       "      <th>StartingPrice</th>\n",
       "      <th>Bred</th>\n",
       "      <th>Sex</th>\n",
       "      <th>Colour</th>\n",
       "      <th>ScheduledTime</th>\n",
       "      <th>Going</th>\n",
       "      <th>Weather</th>\n",
       "      <th>RaceType</th>\n",
       "      <th>TrackType</th>\n",
       "      <th>eligibility</th>\n",
       "      <th>MeetingDate</th>\n",
       "    </tr>\n",
       "  </thead>\n",
       "  <tbody>\n",
       "    <tr>\n",
       "      <th>0</th>\n",
       "      <td>16-Jan</td>\n",
       "      <td>12-Jan</td>\n",
       "      <td>SAF</td>\n",
       "      <td>f</td>\n",
       "      <td>b</td>\n",
       "      <td>##########</td>\n",
       "      <td>Good</td>\n",
       "      <td>Cloudy</td>\n",
       "      <td>Flat</td>\n",
       "      <td>Turf</td>\n",
       "      <td>2YO only</td>\n",
       "      <td>02/05/2017</td>\n",
       "    </tr>\n",
       "    <tr>\n",
       "      <th>1</th>\n",
       "      <td>20-Jan</td>\n",
       "      <td>40/1</td>\n",
       "      <td>SAF</td>\n",
       "      <td>f</td>\n",
       "      <td>b</td>\n",
       "      <td>##########</td>\n",
       "      <td>Good</td>\n",
       "      <td>Cloudy</td>\n",
       "      <td>Flat</td>\n",
       "      <td>Turf</td>\n",
       "      <td>2YO only</td>\n",
       "      <td>02/05/2017</td>\n",
       "    </tr>\n",
       "    <tr>\n",
       "      <th>2</th>\n",
       "      <td>10-Jan</td>\n",
       "      <td>NaN</td>\n",
       "      <td>SAF</td>\n",
       "      <td>f</td>\n",
       "      <td>b</td>\n",
       "      <td>##########</td>\n",
       "      <td>Good</td>\n",
       "      <td>Cloudy</td>\n",
       "      <td>Flat</td>\n",
       "      <td>Turf</td>\n",
       "      <td>2YO only</td>\n",
       "      <td>02/05/2017</td>\n",
       "    </tr>\n",
       "    <tr>\n",
       "      <th>3</th>\n",
       "      <td>07-Apr</td>\n",
       "      <td>11-Oct</td>\n",
       "      <td>SAF</td>\n",
       "      <td>f</td>\n",
       "      <td>b</td>\n",
       "      <td>##########</td>\n",
       "      <td>Good</td>\n",
       "      <td>Cloudy</td>\n",
       "      <td>Flat</td>\n",
       "      <td>Turf</td>\n",
       "      <td>2YO only</td>\n",
       "      <td>02/05/2017</td>\n",
       "    </tr>\n",
       "    <tr>\n",
       "      <th>4</th>\n",
       "      <td>08-Jan</td>\n",
       "      <td>NaN</td>\n",
       "      <td>SAF</td>\n",
       "      <td>f</td>\n",
       "      <td>b</td>\n",
       "      <td>##########</td>\n",
       "      <td>Good</td>\n",
       "      <td>Cloudy</td>\n",
       "      <td>Flat</td>\n",
       "      <td>Turf</td>\n",
       "      <td>2YO only</td>\n",
       "      <td>02/05/2017</td>\n",
       "    </tr>\n",
       "  </tbody>\n",
       "</table>\n",
       "</div>"
      ],
      "text/plain": [
       "  ForecastPrice StartingPrice Bred Sex Colour ScheduledTime Going Weather  \\\n",
       "0        16-Jan        12-Jan  SAF   f      b    ##########  Good  Cloudy   \n",
       "1        20-Jan          40/1  SAF   f      b    ##########  Good  Cloudy   \n",
       "2        10-Jan           NaN  SAF   f      b    ##########  Good  Cloudy   \n",
       "3        07-Apr        11-Oct  SAF   f      b    ##########  Good  Cloudy   \n",
       "4        08-Jan           NaN  SAF   f      b    ##########  Good  Cloudy   \n",
       "\n",
       "  RaceType TrackType eligibility MeetingDate  \n",
       "0     Flat      Turf    2YO only  02/05/2017  \n",
       "1     Flat      Turf    2YO only  02/05/2017  \n",
       "2     Flat      Turf    2YO only  02/05/2017  \n",
       "3     Flat      Turf    2YO only  02/05/2017  \n",
       "4     Flat      Turf    2YO only  02/05/2017  "
      ]
     },
     "execution_count": 114,
     "metadata": {},
     "output_type": "execute_result"
    }
   ],
   "source": [
    "df[cats].head()"
   ]
  },
  {
   "cell_type": "code",
   "execution_count": 129,
   "metadata": {},
   "outputs": [
    {
     "data": {
      "image/png": "[encoded data removed]",
      "text/plain": [
       "<Figure size 432x288 with 1 Axes>"
      ]
     },
     "metadata": {
      "needs_background": "light"
     },
     "output_type": "display_data"
    }
   ],
   "source": [
    "sns.countplot(x='Weather', data=df)\n",
    "plt.xticks(rotation=90)\n",
    "plt.show()\n"
   ]
  },
  {
   "cell_type": "code",
   "execution_count": 131,
   "metadata": {},
   "outputs": [
    {
     "data": {
      "image/png": "[encoded data removed]",
      "text/plain": [
       "<Figure size 432x288 with 1 Axes>"
      ]
     },
     "metadata": {
      "needs_background": "light"
     },
     "output_type": "display_data"
    },
    {
     "data": {
      "image/png": "[encoded data removed]",
      "text/plain": [
       "<Figure size 432x288 with 1 Axes>"
      ]
     },
     "metadata": {
      "needs_background": "light"
     },
     "output_type": "display_data"
    },
    {
     "data": {
      "image/png": "[encoded data removed]",
      "text/plain": [
       "<Figure size 432x288 with 1 Axes>"
      ]
     },
     "metadata": {
      "needs_background": "light"
     },
     "output_type": "display_data"
    },
    {
     "data": {
      "image/png": "[encoded data removed]",
      "text/plain": [
       "<Figure size 432x288 with 1 Axes>"
      ]
     },
     "metadata": {
      "needs_background": "light"
     },
     "output_type": "display_data"
    },
    {
     "data": {
      "image/png": "[encoded data removed]",
      "text/plain": [
       "<Figure size 432x288 with 1 Axes>"
      ]
     },
     "metadata": {
      "needs_background": "light"
     },
     "output_type": "display_data"
    },
    {
     "data": {
      "image/png": "[encoded data removed]",
      "text/plain": [
       "<Figure size 432x288 with 1 Axes>"
      ]
     },
     "metadata": {
      "needs_background": "light"
     },
     "output_type": "display_data"
    },
    {
     "data": {
      "image/png": "[encoded data removed]",
      "text/plain": [
       "<Figure size 432x288 with 1 Axes>"
      ]
     },
     "metadata": {
      "needs_background": "light"
     },
     "output_type": "display_data"
    },
    {
     "data": {
      "image/png": "[encoded data removed]",
      "text/plain": [
       "<Figure size 432x288 with 1 Axes>"
      ]
     },
     "metadata": {
      "needs_background": "light"
     },
     "output_type": "display_data"
    },
    {
     "data": {
      "image/png": "[encoded data removed]",
      "text/plain": [
       "<Figure size 432x288 with 1 Axes>"
      ]
     },
     "metadata": {
      "needs_background": "light"
     },
     "output_type": "display_data"
    },
    {
     "data": {
      "image/png": "[encoded data removed]",
      "text/plain": [
       "<Figure size 432x288 with 1 Axes>"
      ]
     },
     "metadata": {
      "needs_background": "light"
     },
     "output_type": "display_data"
    },
    {
     "data": {
      "image/png": "[encoded data removed]",
      "text/plain": [
       "<Figure size 432x288 with 1 Axes>"
      ]
     },
     "metadata": {
      "needs_background": "light"
     },
     "output_type": "display_data"
    },
    {
     "data": {
      "image/png": "[encoded data removed]",
      "text/plain": [
       "<Figure size 432x288 with 1 Axes>"
      ]
     },
     "metadata": {
      "needs_background": "light"
     },
     "output_type": "display_data"
    }
   ],
   "source": [
    "for c in cats:\n",
    "#     nulls = df[c].isnull()\n",
    "#     plt.hist(df[~nulls][c])\n",
    "    sns.countplot(x=c, data=df)\n",
    "    plt.xticks(rotation=90)\n",
    "    plt.show()"
   ]
  },
  {
   "cell_type": "code",
   "execution_count": null,
   "metadata": {},
   "outputs": [],
   "source": [
    "cols_to_remove = ['RaceType', # all flat races\n",
    "                  'ScheduledTime',  # \n",
    "                 ]"
   ]
  },
  {
   "cell_type": "markdown",
   "metadata": {},
   "source": [
    "## Visualisation"
   ]
  },
  {
   "cell_type": "code",
   "execution_count": null,
   "metadata": {},
   "outputs": [],
   "source": [
    "# TODO pairs plot?"
   ]
  },
  {
   "cell_type": "markdown",
   "metadata": {},
   "source": [
    "## Task 2 Modelling:  \n",
    "(45 Minutes Max)\n",
    "\n",
    "1) Build a model (or models) to predict the winner.  \n",
    "2) Evaluate your model(s) performance and briefly detail any methods or logic you are using to do so."
   ]
  },
  {
   "cell_type": "code",
   "execution_count": 109,
   "metadata": {},
   "outputs": [],
   "source": [
    "y = df['Won']"
   ]
  },
  {
   "cell_type": "code",
   "execution_count": 111,
   "metadata": {},
   "outputs": [
    {
     "data": {
      "text/plain": [
       "0    33912\n",
       "1     2907\n",
       "Name: Won, dtype: int64"
      ]
     },
     "execution_count": 111,
     "metadata": {},
     "output_type": "execute_result"
    }
   ],
   "source": [
    "y.value_counts()"
   ]
  },
  {
   "cell_type": "code",
   "execution_count": null,
   "metadata": {},
   "outputs": [],
   "source": []
  }
 ],
 "metadata": {
  "kernelspec": {
   "display_name": "Python 3",
   "language": "python",
   "name": "python3"
  },
  "language_info": {
   "codemirror_mode": {
    "name": "ipython",
    "version": 3
   },
   "file_extension": ".py",
   "mimetype": "text/x-python",
   "name": "python",
   "nbconvert_exporter": "python",
   "pygments_lexer": "ipython3",
   "version": "3.7.3"
  }
 },
 "nbformat": 4,
 "nbformat_minor": 4
}
