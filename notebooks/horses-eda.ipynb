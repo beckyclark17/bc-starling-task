{
 "cells": [
  {
   "cell_type": "markdown",
   "metadata": {},
   "source": [
    "# Starling Fraud DS Task  "
   ]
  },
  {
   "cell_type": "markdown",
   "metadata": {},
   "source": [
    "## Intro  \n",
    "You are the first person with access to this data and as such are tasked with completing some **exploratory analysis and data visualisation** before creating a model to **predict the winner of the race**  \n",
    "\n",
    "This piece of work represents some **adhoc analysis and a first draft** model attempt. The idea is to discuss some of your analysis and output in our discussion so the aim of this exercise is more to **facilitate our discussion** than to produce a perfect set of results. As such, please do not spend more than 90 minutes in total on these tasks. \n",
    "\n",
    "The output of this work will need to be understood by other data scientists and should be useful for any future projects using this data. As such, please provide appropriate annotations/commentary so that the work can be easily followed. \n",
    "\n",
    "You are free to use any tools at your disposal for these tasks but it will need to be reproducible by us in order to assess it. Ideally the model would be in the form of a python/R notebook but if you would prefer to use other tools or link to any other open source data, please do so."
   ]
  },
  {
   "cell_type": "markdown",
   "metadata": {},
   "source": [
    "## Libraries"
   ]
  },
  {
   "cell_type": "code",
   "execution_count": 1,
   "metadata": {},
   "outputs": [],
   "source": [
    "%matplotlib inline\n",
    "%load_ext autoreload\n",
    "%autoreload 2"
   ]
  },
  {
   "cell_type": "code",
   "execution_count": 2,
   "metadata": {},
   "outputs": [],
   "source": [
    "import pandas as pd\n",
    "import numpy as np\n",
    "import seaborn as sns\n",
    "import matplotlib.pyplot as plt\n",
    "import calendar as cal"
   ]
  },
  {
   "cell_type": "code",
   "execution_count": 4,
   "metadata": {},
   "outputs": [],
   "source": [
    "pd.options.display.float_format = '{:.4f}'.format"
   ]
  },
  {
   "cell_type": "code",
   "execution_count": 5,
   "metadata": {},
   "outputs": [],
   "source": [
    "%load_ext pycodestyle_magic\n",
    "%pycodestyle_on"
   ]
  },
  {
   "cell_type": "markdown",
   "metadata": {},
   "source": [
    "## Task 1 Data Visualisation:  \n",
    "(45 Minutes Max)\n",
    "\n",
    "Consider the best way to visualise this data. \n",
    "\n",
    "1) Create some key components that may be used within a data visualisation dashboard to present your analysis to other data scientists and/or a wider audience.  \n",
    "2) As you explore the data, please note down any questions or concerns that come to mind, along with any insights and conclusions that you are able to draw using the visualisation components that you have built.\n"
   ]
  },
  {
   "cell_type": "markdown",
   "metadata": {},
   "source": [
    "### Get Data"
   ]
  },
  {
   "cell_type": "code",
   "execution_count": 6,
   "metadata": {},
   "outputs": [],
   "source": [
    "data_path = \"../data/raw/Horses.csv\"\n",
    "df = pd.read_csv(data_path)"
   ]
  },
  {
   "cell_type": "markdown",
   "metadata": {},
   "source": [
    "### First Look"
   ]
  },
  {
   "cell_type": "code",
   "execution_count": 7,
   "metadata": {},
   "outputs": [],
   "source": [
    "pd.set_option('display.max_columns', df.shape[1])"
   ]
  },
  {
   "cell_type": "code",
   "execution_count": 8,
   "metadata": {},
   "outputs": [
    {
     "data": {
      "text/plain": [
       "(36819, 46)"
      ]
     },
     "execution_count": 8,
     "metadata": {},
     "output_type": "execute_result"
    }
   ],
   "source": [
    "df.shape"
   ]
  },
  {
   "cell_type": "code",
   "execution_count": 9,
   "metadata": {},
   "outputs": [
    {
     "data": {
      "text/html": [
       "<div>\n",
       "<style scoped>\n",
       "    .dataframe tbody tr th:only-of-type {\n",
       "        vertical-align: middle;\n",
       "    }\n",
       "\n",
       "    .dataframe tbody tr th {\n",
       "        vertical-align: top;\n",
       "    }\n",
       "\n",
       "    .dataframe thead th {\n",
       "        text-align: right;\n",
       "    }\n",
       "</style>\n",
       "<table border=\"1\" class=\"dataframe\">\n",
       "  <thead>\n",
       "    <tr style=\"text-align: right;\">\n",
       "      <th></th>\n",
       "      <th>RaceID</th>\n",
       "      <th>HorseID</th>\n",
       "      <th>Cloth</th>\n",
       "      <th>Stall</th>\n",
       "      <th>WeightValue</th>\n",
       "      <th>JockeyID</th>\n",
       "      <th>AllowanceValue</th>\n",
       "      <th>OverweightValue</th>\n",
       "      <th>TrainerID</th>\n",
       "      <th>OwnerID</th>\n",
       "      <th>LastRunDaysFlat</th>\n",
       "      <th>Age</th>\n",
       "      <th>Blinkers</th>\n",
       "      <th>Hood</th>\n",
       "      <th>Visor</th>\n",
       "      <th>EyeShield</th>\n",
       "      <th>Eyecover</th>\n",
       "      <th>TongueStrap</th>\n",
       "      <th>CheekPieces</th>\n",
       "      <th>ForecastPrice</th>\n",
       "      <th>StatCourse</th>\n",
       "      <th>StatDistance</th>\n",
       "      <th>StatCourseDistance</th>\n",
       "      <th>StartingPrice</th>\n",
       "      <th>Bred</th>\n",
       "      <th>DamID</th>\n",
       "      <th>SireID</th>\n",
       "      <th>DamSireID</th>\n",
       "      <th>Sex</th>\n",
       "      <th>Colour</th>\n",
       "      <th>YearBorn</th>\n",
       "      <th>MeetingID</th>\n",
       "      <th>RaceNumber</th>\n",
       "      <th>ScheduledTime</th>\n",
       "      <th>HorseCount</th>\n",
       "      <th>Runners</th>\n",
       "      <th>Going</th>\n",
       "      <th>Weather</th>\n",
       "      <th>Course_Distance</th>\n",
       "      <th>RaceType</th>\n",
       "      <th>TrackType</th>\n",
       "      <th>Handicap</th>\n",
       "      <th>eligibility</th>\n",
       "      <th>CourseID</th>\n",
       "      <th>MeetingDate</th>\n",
       "      <th>Won</th>\n",
       "    </tr>\n",
       "  </thead>\n",
       "  <tbody>\n",
       "    <tr>\n",
       "      <th>0</th>\n",
       "      <td>989418</td>\n",
       "      <td>2963489</td>\n",
       "      <td>7</td>\n",
       "      <td>5.0000</td>\n",
       "      <td>132</td>\n",
       "      <td>1398052.0000</td>\n",
       "      <td>nan</td>\n",
       "      <td>nan</td>\n",
       "      <td>1198534</td>\n",
       "      <td>1289143.0000</td>\n",
       "      <td>26.0000</td>\n",
       "      <td>3.0000</td>\n",
       "      <td>nan</td>\n",
       "      <td>nan</td>\n",
       "      <td>nan</td>\n",
       "      <td>nan</td>\n",
       "      <td>nan</td>\n",
       "      <td>nan</td>\n",
       "      <td>nan</td>\n",
       "      <td>16-Jan</td>\n",
       "      <td>nan</td>\n",
       "      <td>nan</td>\n",
       "      <td>nan</td>\n",
       "      <td>12-Jan</td>\n",
       "      <td>SAF</td>\n",
       "      <td>2803520.0000</td>\n",
       "      <td>2004880.0000</td>\n",
       "      <td>2179351.0000</td>\n",
       "      <td>f</td>\n",
       "      <td>b</td>\n",
       "      <td>nan</td>\n",
       "      <td>87048</td>\n",
       "      <td>1</td>\n",
       "      <td>##########</td>\n",
       "      <td>13</td>\n",
       "      <td>11.0000</td>\n",
       "      <td>Good</td>\n",
       "      <td>Cloudy</td>\n",
       "      <td>1312</td>\n",
       "      <td>Flat</td>\n",
       "      <td>Turf</td>\n",
       "      <td>nan</td>\n",
       "      <td>2YO only</td>\n",
       "      <td>380</td>\n",
       "      <td>02/05/2017</td>\n",
       "      <td>0</td>\n",
       "    </tr>\n",
       "    <tr>\n",
       "      <th>1</th>\n",
       "      <td>989418</td>\n",
       "      <td>2972665</td>\n",
       "      <td>13</td>\n",
       "      <td>6.0000</td>\n",
       "      <td>132</td>\n",
       "      <td>1165412.0000</td>\n",
       "      <td>nan</td>\n",
       "      <td>nan</td>\n",
       "      <td>1188128</td>\n",
       "      <td>1140080.0000</td>\n",
       "      <td>nan</td>\n",
       "      <td>3.0000</td>\n",
       "      <td>nan</td>\n",
       "      <td>nan</td>\n",
       "      <td>nan</td>\n",
       "      <td>nan</td>\n",
       "      <td>nan</td>\n",
       "      <td>nan</td>\n",
       "      <td>nan</td>\n",
       "      <td>20-Jan</td>\n",
       "      <td>nan</td>\n",
       "      <td>nan</td>\n",
       "      <td>nan</td>\n",
       "      <td>40/1</td>\n",
       "      <td>SAF</td>\n",
       "      <td>2749301.0000</td>\n",
       "      <td>2960049.0000</td>\n",
       "      <td>2001540.0000</td>\n",
       "      <td>f</td>\n",
       "      <td>b</td>\n",
       "      <td>nan</td>\n",
       "      <td>87048</td>\n",
       "      <td>1</td>\n",
       "      <td>##########</td>\n",
       "      <td>13</td>\n",
       "      <td>11.0000</td>\n",
       "      <td>Good</td>\n",
       "      <td>Cloudy</td>\n",
       "      <td>1312</td>\n",
       "      <td>Flat</td>\n",
       "      <td>Turf</td>\n",
       "      <td>nan</td>\n",
       "      <td>2YO only</td>\n",
       "      <td>380</td>\n",
       "      <td>02/05/2017</td>\n",
       "      <td>0</td>\n",
       "    </tr>\n",
       "    <tr>\n",
       "      <th>2</th>\n",
       "      <td>989418</td>\n",
       "      <td>2972662</td>\n",
       "      <td>9</td>\n",
       "      <td>7.0000</td>\n",
       "      <td>132</td>\n",
       "      <td>1239852.0000</td>\n",
       "      <td>nan</td>\n",
       "      <td>nan</td>\n",
       "      <td>1199122</td>\n",
       "      <td>1448576.0000</td>\n",
       "      <td>nan</td>\n",
       "      <td>3.0000</td>\n",
       "      <td>nan</td>\n",
       "      <td>nan</td>\n",
       "      <td>nan</td>\n",
       "      <td>nan</td>\n",
       "      <td>nan</td>\n",
       "      <td>nan</td>\n",
       "      <td>nan</td>\n",
       "      <td>10-Jan</td>\n",
       "      <td>nan</td>\n",
       "      <td>nan</td>\n",
       "      <td>nan</td>\n",
       "      <td>NaN</td>\n",
       "      <td>SAF</td>\n",
       "      <td>2761722.0000</td>\n",
       "      <td>2441786.0000</td>\n",
       "      <td>2123459.0000</td>\n",
       "      <td>f</td>\n",
       "      <td>b</td>\n",
       "      <td>nan</td>\n",
       "      <td>87048</td>\n",
       "      <td>1</td>\n",
       "      <td>##########</td>\n",
       "      <td>13</td>\n",
       "      <td>11.0000</td>\n",
       "      <td>Good</td>\n",
       "      <td>Cloudy</td>\n",
       "      <td>1312</td>\n",
       "      <td>Flat</td>\n",
       "      <td>Turf</td>\n",
       "      <td>nan</td>\n",
       "      <td>2YO only</td>\n",
       "      <td>380</td>\n",
       "      <td>02/05/2017</td>\n",
       "      <td>0</td>\n",
       "    </tr>\n",
       "    <tr>\n",
       "      <th>3</th>\n",
       "      <td>989418</td>\n",
       "      <td>2960365</td>\n",
       "      <td>1</td>\n",
       "      <td>12.0000</td>\n",
       "      <td>132</td>\n",
       "      <td>1417524.0000</td>\n",
       "      <td>nan</td>\n",
       "      <td>nan</td>\n",
       "      <td>1049637</td>\n",
       "      <td>1487690.0000</td>\n",
       "      <td>33.0000</td>\n",
       "      <td>3.0000</td>\n",
       "      <td>nan</td>\n",
       "      <td>nan</td>\n",
       "      <td>nan</td>\n",
       "      <td>nan</td>\n",
       "      <td>nan</td>\n",
       "      <td>nan</td>\n",
       "      <td>nan</td>\n",
       "      <td>07-Apr</td>\n",
       "      <td>nan</td>\n",
       "      <td>nan</td>\n",
       "      <td>nan</td>\n",
       "      <td>11-Oct</td>\n",
       "      <td>SAF</td>\n",
       "      <td>2347111.0000</td>\n",
       "      <td>2170013.0000</td>\n",
       "      <td>2071137.0000</td>\n",
       "      <td>f</td>\n",
       "      <td>b</td>\n",
       "      <td>nan</td>\n",
       "      <td>87048</td>\n",
       "      <td>1</td>\n",
       "      <td>##########</td>\n",
       "      <td>13</td>\n",
       "      <td>11.0000</td>\n",
       "      <td>Good</td>\n",
       "      <td>Cloudy</td>\n",
       "      <td>1312</td>\n",
       "      <td>Flat</td>\n",
       "      <td>Turf</td>\n",
       "      <td>nan</td>\n",
       "      <td>2YO only</td>\n",
       "      <td>380</td>\n",
       "      <td>02/05/2017</td>\n",
       "      <td>1</td>\n",
       "    </tr>\n",
       "    <tr>\n",
       "      <th>4</th>\n",
       "      <td>989418</td>\n",
       "      <td>2968596</td>\n",
       "      <td>11</td>\n",
       "      <td>8.0000</td>\n",
       "      <td>132</td>\n",
       "      <td>1354773.0000</td>\n",
       "      <td>nan</td>\n",
       "      <td>nan</td>\n",
       "      <td>1140041</td>\n",
       "      <td>1403676.0000</td>\n",
       "      <td>24.0000</td>\n",
       "      <td>3.0000</td>\n",
       "      <td>nan</td>\n",
       "      <td>nan</td>\n",
       "      <td>nan</td>\n",
       "      <td>nan</td>\n",
       "      <td>nan</td>\n",
       "      <td>nan</td>\n",
       "      <td>nan</td>\n",
       "      <td>08-Jan</td>\n",
       "      <td>nan</td>\n",
       "      <td>nan</td>\n",
       "      <td>nan</td>\n",
       "      <td>NaN</td>\n",
       "      <td>SAF</td>\n",
       "      <td>2618721.0000</td>\n",
       "      <td>2410998.0000</td>\n",
       "      <td>2170115.0000</td>\n",
       "      <td>f</td>\n",
       "      <td>b</td>\n",
       "      <td>nan</td>\n",
       "      <td>87048</td>\n",
       "      <td>1</td>\n",
       "      <td>##########</td>\n",
       "      <td>13</td>\n",
       "      <td>11.0000</td>\n",
       "      <td>Good</td>\n",
       "      <td>Cloudy</td>\n",
       "      <td>1312</td>\n",
       "      <td>Flat</td>\n",
       "      <td>Turf</td>\n",
       "      <td>nan</td>\n",
       "      <td>2YO only</td>\n",
       "      <td>380</td>\n",
       "      <td>02/05/2017</td>\n",
       "      <td>0</td>\n",
       "    </tr>\n",
       "  </tbody>\n",
       "</table>\n",
       "</div>"
      ],
      "text/plain": [
       "   RaceID  HorseID  Cloth   Stall  WeightValue     JockeyID  AllowanceValue  \\\n",
       "0  989418  2963489      7  5.0000          132 1398052.0000             nan   \n",
       "1  989418  2972665     13  6.0000          132 1165412.0000             nan   \n",
       "2  989418  2972662      9  7.0000          132 1239852.0000             nan   \n",
       "3  989418  2960365      1 12.0000          132 1417524.0000             nan   \n",
       "4  989418  2968596     11  8.0000          132 1354773.0000             nan   \n",
       "\n",
       "   OverweightValue  TrainerID      OwnerID  LastRunDaysFlat    Age  Blinkers  \\\n",
       "0              nan    1198534 1289143.0000          26.0000 3.0000       nan   \n",
       "1              nan    1188128 1140080.0000              nan 3.0000       nan   \n",
       "2              nan    1199122 1448576.0000              nan 3.0000       nan   \n",
       "3              nan    1049637 1487690.0000          33.0000 3.0000       nan   \n",
       "4              nan    1140041 1403676.0000          24.0000 3.0000       nan   \n",
       "\n",
       "   Hood  Visor  EyeShield  Eyecover  TongueStrap  CheekPieces ForecastPrice  \\\n",
       "0   nan    nan        nan       nan          nan          nan        16-Jan   \n",
       "1   nan    nan        nan       nan          nan          nan        20-Jan   \n",
       "2   nan    nan        nan       nan          nan          nan        10-Jan   \n",
       "3   nan    nan        nan       nan          nan          nan        07-Apr   \n",
       "4   nan    nan        nan       nan          nan          nan        08-Jan   \n",
       "\n",
       "   StatCourse  StatDistance  StatCourseDistance StartingPrice Bred  \\\n",
       "0         nan           nan                 nan        12-Jan  SAF   \n",
       "1         nan           nan                 nan          40/1  SAF   \n",
       "2         nan           nan                 nan           NaN  SAF   \n",
       "3         nan           nan                 nan        11-Oct  SAF   \n",
       "4         nan           nan                 nan           NaN  SAF   \n",
       "\n",
       "         DamID       SireID    DamSireID Sex Colour  YearBorn  MeetingID  \\\n",
       "0 2803520.0000 2004880.0000 2179351.0000   f      b       nan      87048   \n",
       "1 2749301.0000 2960049.0000 2001540.0000   f      b       nan      87048   \n",
       "2 2761722.0000 2441786.0000 2123459.0000   f      b       nan      87048   \n",
       "3 2347111.0000 2170013.0000 2071137.0000   f      b       nan      87048   \n",
       "4 2618721.0000 2410998.0000 2170115.0000   f      b       nan      87048   \n",
       "\n",
       "   RaceNumber ScheduledTime  HorseCount  Runners Going Weather  \\\n",
       "0           1    ##########          13  11.0000  Good  Cloudy   \n",
       "1           1    ##########          13  11.0000  Good  Cloudy   \n",
       "2           1    ##########          13  11.0000  Good  Cloudy   \n",
       "3           1    ##########          13  11.0000  Good  Cloudy   \n",
       "4           1    ##########          13  11.0000  Good  Cloudy   \n",
       "\n",
       "   Course_Distance RaceType TrackType  Handicap eligibility  CourseID  \\\n",
       "0             1312     Flat      Turf       nan    2YO only       380   \n",
       "1             1312     Flat      Turf       nan    2YO only       380   \n",
       "2             1312     Flat      Turf       nan    2YO only       380   \n",
       "3             1312     Flat      Turf       nan    2YO only       380   \n",
       "4             1312     Flat      Turf       nan    2YO only       380   \n",
       "\n",
       "  MeetingDate  Won  \n",
       "0  02/05/2017    0  \n",
       "1  02/05/2017    0  \n",
       "2  02/05/2017    0  \n",
       "3  02/05/2017    1  \n",
       "4  02/05/2017    0  "
      ]
     },
     "execution_count": 9,
     "metadata": {},
     "output_type": "execute_result"
    }
   ],
   "source": [
    "df.head()"
   ]
  },
  {
   "cell_type": "markdown",
   "metadata": {},
   "source": [
    "* Lots of nulls particularly variables describing tack  \n",
    "* **ForecastPrice** & **StartingPrice** look like they should be odds, but have been corrupted to a date string.  \n"
   ]
  },
  {
   "cell_type": "markdown",
   "metadata": {},
   "source": [
    "### How many races has each horse won?"
   ]
  },
  {
   "cell_type": "code",
   "execution_count": 121,
   "metadata": {},
   "outputs": [],
   "source": [
    "races_per_horse = df['HorseID'].value_counts()\n",
    "winners = df.groupby('HorseID').agg({'Won': ['sum']})\n",
    "winners.columns = ['won']\n",
    "winners.reset_index()\n",
    "\n",
    "winners = winners.merge(races_per_horse, left_index=True, right_index=True)\n",
    "winners = winners.rename(columns=({'HorseID': 'total_races'}))\n",
    "winners['win_pct'] = winners.won / winners.total_races"
   ]
  },
  {
   "cell_type": "code",
   "execution_count": 123,
   "metadata": {},
   "outputs": [
    {
     "data": {
      "text/plain": [
       "count   6064.0000\n",
       "mean       0.0753\n",
       "std        0.1407\n",
       "min        0.0000\n",
       "25%        0.0000\n",
       "50%        0.0000\n",
       "75%        0.1250\n",
       "max        1.0000\n",
       "Name: win_pct, dtype: float64"
      ]
     },
     "execution_count": 123,
     "metadata": {},
     "output_type": "execute_result"
    }
   ],
   "source": [
    "winners['win_pct'].describe()"
   ]
  },
  {
   "cell_type": "code",
   "execution_count": 100,
   "metadata": {},
   "outputs": [
    {
     "data": {
      "image/png": "[encoded data removed]",
      "text/plain": [
       "<Figure size 720x360 with 1 Axes>"
      ]
     },
     "metadata": {
      "needs_background": "light"
     },
     "output_type": "display_data"
    }
   ],
   "source": [
    "plt.figure(figsize=(10, 5))\n",
    "plt.title('Proportions of Races Won per Horse')\n",
    "sns.distplot(winners.win_pct)\n",
    "plt.show()"
   ]
  },
  {
   "cell_type": "code",
   "execution_count": 106,
   "metadata": {},
   "outputs": [
    {
     "data": {
      "text/plain": [
       "\"3986 haven't won\""
      ]
     },
     "execution_count": 106,
     "metadata": {},
     "output_type": "execute_result"
    }
   ],
   "source": [
    "f\"{winners.win_pct.value_counts()[0]} haven't won\""
   ]
  },
  {
   "cell_type": "markdown",
   "metadata": {},
   "source": [
    "There are 6,064 horses in the dataset and 3,986 haven't won - so actually this dataset isn't an imbalanced as I might have thought."
   ]
  },
  {
   "cell_type": "code",
   "execution_count": 156,
   "metadata": {},
   "outputs": [
    {
     "data": {
      "image/png": "[encoded data removed]",
      "text/plain": [
       "<Figure size 720x360 with 1 Axes>"
      ]
     },
     "metadata": {
      "needs_background": "light"
     },
     "output_type": "display_data"
    }
   ],
   "source": [
    "plt.figure(figsize=(10, 5))\n",
    "plt.title('Number of races vs number of wins')\n",
    "sns.scatterplot(x='total_races', y='win_pct', data=winners, hue='win_pct')\n",
    "plt.show()"
   ]
  },
  {
   "cell_type": "markdown",
   "metadata": {},
   "source": [
    "Horses with a 100% track record have raced very few times."
   ]
  },
  {
   "cell_type": "code",
   "execution_count": 158,
   "metadata": {},
   "outputs": [
    {
     "data": {
      "image/png": "[encoded data removed]",
      "text/plain": [
       "<Figure size 432x288 with 1 Axes>"
      ]
     },
     "metadata": {
      "needs_background": "light"
     },
     "output_type": "display_data"
    }
   ],
   "source": [
    "plt.title('Average wins')\n",
    "plt.plot(winners.groupby('total_races').mean()['win_pct'])\n",
    "plt.xlabel('total_races')\n",
    "plt.ylabel('win rate')\n",
    "plt.show()"
   ]
  },
  {
   "cell_type": "markdown",
   "metadata": {},
   "source": [
    "There's a trade-off between experience and maturity;  It looks like horses running between 5 and 10 races have proportionately more wins.  \n",
    "\n",
    "Capturing the horse's prior form will be advantageous to modelling."
   ]
  },
  {
   "cell_type": "markdown",
   "metadata": {},
   "source": [
    "### How large is the field in each race?"
   ]
  },
  {
   "cell_type": "code",
   "execution_count": 166,
   "metadata": {},
   "outputs": [
    {
     "data": {
      "image/png": "[encoded data removed]",
      "text/plain": [
       "<Figure size 432x288 with 1 Axes>"
      ]
     },
     "metadata": {
      "needs_background": "light"
     },
     "output_type": "display_data"
    }
   ],
   "source": [
    "sns.boxplot(df.groupby('RaceID').agg({'HorseID': 'count'}))\n",
    "plt.title('Size of the Field')\n",
    "plt.show()"
   ]
  },
  {
   "cell_type": "markdown",
   "metadata": {},
   "source": [
    "On average there are around 12 horses per race, and the IQR is 5 and 20 and there are some exceptions with more than 25 horses racing."
   ]
  },
  {
   "cell_type": "markdown",
   "metadata": {},
   "source": [
    "## Data Prep   \n",
    "From here I am processing the data for modelling and continue to explore distributions etc..."
   ]
  },
  {
   "cell_type": "markdown",
   "metadata": {},
   "source": [
    "### Nulls"
   ]
  },
  {
   "cell_type": "code",
   "execution_count": 10,
   "metadata": {},
   "outputs": [
    {
     "data": {
      "image/png": "[encoded data removed]",
      "text/plain": [
       "<Figure size 1296x360 with 1 Axes>"
      ]
     },
     "metadata": {
      "needs_background": "light"
     },
     "output_type": "display_data"
    }
   ],
   "source": [
    "missings = (pd.DataFrame(index=df.isnull().sum().index,\n",
    "                         data=df.isnull().sum().values / len(df) * 100,\n",
    "                         columns=['missing_pct'])\n",
    "            .sort_values(by='missing_pct', ascending=False))\n",
    "\n",
    "plt.figure(figsize=(18, 5))\n",
    "plt.plot(missings)\n",
    "plt.title('Missing Data')\n",
    "plt.ylabel('Missing %')\n",
    "plt.xticks(rotation=90)\n",
    "plt.show()"
   ]
  },
  {
   "cell_type": "code",
   "execution_count": 11,
   "metadata": {},
   "outputs": [
    {
     "data": {
      "text/html": [
       "<div>\n",
       "<style scoped>\n",
       "    .dataframe tbody tr th:only-of-type {\n",
       "        vertical-align: middle;\n",
       "    }\n",
       "\n",
       "    .dataframe tbody tr th {\n",
       "        vertical-align: top;\n",
       "    }\n",
       "\n",
       "    .dataframe thead th {\n",
       "        text-align: right;\n",
       "    }\n",
       "</style>\n",
       "<table border=\"1\" class=\"dataframe\">\n",
       "  <thead>\n",
       "    <tr style=\"text-align: right;\">\n",
       "      <th></th>\n",
       "      <th>missing_pct</th>\n",
       "    </tr>\n",
       "  </thead>\n",
       "  <tbody>\n",
       "    <tr>\n",
       "      <th>TongueStrap</th>\n",
       "      <td>100.0000</td>\n",
       "    </tr>\n",
       "    <tr>\n",
       "      <th>CheekPieces</th>\n",
       "      <td>100.0000</td>\n",
       "    </tr>\n",
       "    <tr>\n",
       "      <th>Eyecover</th>\n",
       "      <td>100.0000</td>\n",
       "    </tr>\n",
       "    <tr>\n",
       "      <th>EyeShield</th>\n",
       "      <td>100.0000</td>\n",
       "    </tr>\n",
       "    <tr>\n",
       "      <th>Hood</th>\n",
       "      <td>100.0000</td>\n",
       "    </tr>\n",
       "    <tr>\n",
       "      <th>Visor</th>\n",
       "      <td>99.8153</td>\n",
       "    </tr>\n",
       "    <tr>\n",
       "      <th>OverweightValue</th>\n",
       "      <td>99.7121</td>\n",
       "    </tr>\n",
       "    <tr>\n",
       "      <th>AllowanceValue</th>\n",
       "      <td>95.6300</td>\n",
       "    </tr>\n",
       "    <tr>\n",
       "      <th>YearBorn</th>\n",
       "      <td>85.9855</td>\n",
       "    </tr>\n",
       "    <tr>\n",
       "      <th>StatDistance</th>\n",
       "      <td>80.6404</td>\n",
       "    </tr>\n",
       "    <tr>\n",
       "      <th>StatCourseDistance</th>\n",
       "      <td>79.7496</td>\n",
       "    </tr>\n",
       "    <tr>\n",
       "      <th>StatCourse</th>\n",
       "      <td>76.0124</td>\n",
       "    </tr>\n",
       "    <tr>\n",
       "      <th>Blinkers</th>\n",
       "      <td>71.9112</td>\n",
       "    </tr>\n",
       "  </tbody>\n",
       "</table>\n",
       "</div>"
      ],
      "text/plain": [
       "                    missing_pct\n",
       "TongueStrap            100.0000\n",
       "CheekPieces            100.0000\n",
       "Eyecover               100.0000\n",
       "EyeShield              100.0000\n",
       "Hood                   100.0000\n",
       "Visor                   99.8153\n",
       "OverweightValue         99.7121\n",
       "AllowanceValue          95.6300\n",
       "YearBorn                85.9855\n",
       "StatDistance            80.6404\n",
       "StatCourseDistance      79.7496\n",
       "StatCourse              76.0124\n",
       "Blinkers                71.9112"
      ]
     },
     "execution_count": 11,
     "metadata": {},
     "output_type": "execute_result"
    }
   ],
   "source": [
    "high_missing = missings[missings.missing_pct > 60]\n",
    "high_missing"
   ]
  },
  {
   "cell_type": "markdown",
   "metadata": {},
   "source": [
    "Some variables either don't contain any information or have too much missing data to infer a meaningful value.  I will record these and remove from model training. "
   ]
  },
  {
   "cell_type": "code",
   "execution_count": 12,
   "metadata": {},
   "outputs": [],
   "source": [
    "# record these cols to remove from a modelling dset.\n",
    "cols_to_remove = list(high_missing.index.values)"
   ]
  },
  {
   "cell_type": "code",
   "execution_count": 13,
   "metadata": {},
   "outputs": [
    {
     "name": "stdout",
     "output_type": "stream",
     "text": [
      "nan       19413\n",
      "1.0000    17347\n",
      "0.0000       59\n",
      "Name: Handicap, dtype: int64\n"
     ]
    }
   ],
   "source": [
    "# handicap has a lot of nulls, so taking a look to see how to deal with nulls\n",
    "print(df.Handicap.value_counts(dropna=False))\n",
    "\n",
    "# will replaces nulls with zero...\n",
    "df['Handicap'] = df['Handicap'].fillna(0)"
   ]
  },
  {
   "cell_type": "markdown",
   "metadata": {},
   "source": [
    "## Correct prices  \n",
    "The prices look like odds and will be super useful for modelling!  They have been corrupted and some values are stored as date strings, so I will correct them"
   ]
  },
  {
   "cell_type": "code",
   "execution_count": 67,
   "metadata": {},
   "outputs": [
    {
     "data": {
      "text/html": [
       "<div>\n",
       "<style scoped>\n",
       "    .dataframe tbody tr th:only-of-type {\n",
       "        vertical-align: middle;\n",
       "    }\n",
       "\n",
       "    .dataframe tbody tr th {\n",
       "        vertical-align: top;\n",
       "    }\n",
       "\n",
       "    .dataframe thead th {\n",
       "        text-align: right;\n",
       "    }\n",
       "</style>\n",
       "<table border=\"1\" class=\"dataframe\">\n",
       "  <thead>\n",
       "    <tr style=\"text-align: right;\">\n",
       "      <th></th>\n",
       "      <th>ForecastPrice</th>\n",
       "      <th>StartingPrice</th>\n",
       "      <th>forecast_price_cleaned</th>\n",
       "      <th>starting_price_cleaned</th>\n",
       "      <th>price_chg</th>\n",
       "    </tr>\n",
       "  </thead>\n",
       "  <tbody>\n",
       "    <tr>\n",
       "      <th>0</th>\n",
       "      <td>16-Jan</td>\n",
       "      <td>12-Jan</td>\n",
       "      <td>16.0000</td>\n",
       "      <td>12.0000</td>\n",
       "      <td>0.7500</td>\n",
       "    </tr>\n",
       "    <tr>\n",
       "      <th>1</th>\n",
       "      <td>20-Jan</td>\n",
       "      <td>40/1</td>\n",
       "      <td>20.0000</td>\n",
       "      <td>40.0000</td>\n",
       "      <td>2.0000</td>\n",
       "    </tr>\n",
       "    <tr>\n",
       "      <th>2</th>\n",
       "      <td>10-Jan</td>\n",
       "      <td>NaN</td>\n",
       "      <td>10.0000</td>\n",
       "      <td>5.5000</td>\n",
       "      <td>0.5500</td>\n",
       "    </tr>\n",
       "    <tr>\n",
       "      <th>3</th>\n",
       "      <td>07-Apr</td>\n",
       "      <td>11-Oct</td>\n",
       "      <td>1.7500</td>\n",
       "      <td>1.1000</td>\n",
       "      <td>0.6286</td>\n",
       "    </tr>\n",
       "    <tr>\n",
       "      <th>4</th>\n",
       "      <td>08-Jan</td>\n",
       "      <td>NaN</td>\n",
       "      <td>8.0000</td>\n",
       "      <td>5.5000</td>\n",
       "      <td>0.6875</td>\n",
       "    </tr>\n",
       "  </tbody>\n",
       "</table>\n",
       "</div>"
      ],
      "text/plain": [
       "  ForecastPrice StartingPrice  forecast_price_cleaned  starting_price_cleaned  \\\n",
       "0        16-Jan        12-Jan                 16.0000                 12.0000   \n",
       "1        20-Jan          40/1                 20.0000                 40.0000   \n",
       "2        10-Jan           NaN                 10.0000                  5.5000   \n",
       "3        07-Apr        11-Oct                  1.7500                  1.1000   \n",
       "4        08-Jan           NaN                  8.0000                  5.5000   \n",
       "\n",
       "   price_chg  \n",
       "0     0.7500  \n",
       "1     2.0000  \n",
       "2     0.5500  \n",
       "3     0.6286  \n",
       "4     0.6875  "
      ]
     },
     "execution_count": 67,
     "metadata": {},
     "output_type": "execute_result"
    }
   ],
   "source": [
    "prices = [col for col in df.columns if 'price' in col.lower()]\n",
    "\n",
    "df[prices].head()"
   ]
  },
  {
   "cell_type": "code",
   "execution_count": 15,
   "metadata": {},
   "outputs": [
    {
     "name": "stdout",
     "output_type": "stream",
     "text": [
      "ForecastPrice -\n",
      "ForecastPrice /\n",
      "StartingPrice -\n",
      "StartingPrice /\n"
     ]
    }
   ],
   "source": [
    "# create a month dictionary to convert strings to number...\n",
    "cal_dict = dict(enumerate(cal.month_abbr))\n",
    "\n",
    "# flip dictionary keys and values round the right way for mapping.\n",
    "cal_dict = {v: k for (k, v) in cal_dict.items()}\n",
    "\n",
    "\n",
    "def correct_odds(col: str, split_char: str) -> pd.Series:\n",
    "    \"\"\"Convert price column from corrupted fractional odds to a decimal.\n",
    "    Parameters\n",
    "    ----------\n",
    "    col: str\n",
    "        name of column containing prices to correct\n",
    "    split_char: str\n",
    "        the character used to split the column\n",
    "    Returns\n",
    "    -------\n",
    "    A pandas series containing the decimal odds.\n",
    "    \"\"\"\n",
    "    has_char = df[col].str.contains(split_char)\n",
    "\n",
    "    split_vals = (df[col]\n",
    "                  [has_char.fillna(False)]\n",
    "                  .str.split(split_char))\n",
    "\n",
    "    numer, denom = split_vals.str[0], split_vals.str[1]\n",
    "\n",
    "    try:\n",
    "        numer, denom = numer.astype(int), denom.astype(int)\n",
    "    except ValueError:\n",
    "        numer = (numer\n",
    "                 .replace('Aug', '8')\n",
    "                 .replace('', 1)\n",
    "                 .astype(int))\n",
    "\n",
    "        denom = pd.Series([int(x)\n",
    "                           if x.isnumeric()\n",
    "                           else cal_dict[x]\n",
    "                           for x in denom])\n",
    "        denom.index = numer.index\n",
    "\n",
    "    return numer / denom\n",
    "\n",
    "\n",
    "# apply the function above to the two price columns and fix both \"-\" and \"/\"\n",
    "corrected = {}\n",
    "for col, char in [(col, char) for col in prices for char in ['-', '/']]:\n",
    "    print(col, char)\n",
    "    corrected[f'{col}{char}'] = correct_odds(col, char)"
   ]
  },
  {
   "cell_type": "markdown",
   "metadata": {},
   "source": [
    "### Fill ForecastPrice"
   ]
  },
  {
   "cell_type": "code",
   "execution_count": 16,
   "metadata": {},
   "outputs": [],
   "source": [
    "# update dataframe\n",
    "df['forecast_price_cleaned'] = pd.concat([corrected['ForecastPrice-'],\n",
    "                                          corrected['ForecastPrice/']])\n",
    "df['forecast_price_cleaned'] = (df['forecast_price_cleaned']\n",
    "                                .fillna(df['ForecastPrice']))"
   ]
  },
  {
   "cell_type": "code",
   "execution_count": 17,
   "metadata": {},
   "outputs": [
    {
     "data": {
      "text/plain": [
       "count   35092.0000\n",
       "mean       14.7389\n",
       "std        13.4107\n",
       "min         0.2000\n",
       "25%         6.0000\n",
       "50%        10.0000\n",
       "75%        20.0000\n",
       "max       100.0000\n",
       "Name: forecast_price_cleaned, dtype: float64"
      ]
     },
     "execution_count": 17,
     "metadata": {},
     "output_type": "execute_result"
    }
   ],
   "source": [
    "df['forecast_price_cleaned'].describe()"
   ]
  },
  {
   "cell_type": "code",
   "execution_count": 19,
   "metadata": {},
   "outputs": [
    {
     "name": "stderr",
     "output_type": "stream",
     "text": [
      "1:80: E501 line too long (91 > 79 characters)\n"
     ]
    }
   ],
   "source": [
    "# filling nulls with the 25th percentile - feel that replacing with null is too favourable!\n",
    "pctl = np.nanpercentile(df['forecast_price_cleaned'], q=25)\n",
    "df['forecast_price_cleaned'] = df['forecast_price_cleaned'].fillna(pctl)"
   ]
  },
  {
   "cell_type": "code",
   "execution_count": 20,
   "metadata": {},
   "outputs": [
    {
     "data": {
      "text/html": [
       "<div>\n",
       "<style scoped>\n",
       "    .dataframe tbody tr th:only-of-type {\n",
       "        vertical-align: middle;\n",
       "    }\n",
       "\n",
       "    .dataframe tbody tr th {\n",
       "        vertical-align: top;\n",
       "    }\n",
       "\n",
       "    .dataframe thead th {\n",
       "        text-align: right;\n",
       "    }\n",
       "</style>\n",
       "<table border=\"1\" class=\"dataframe\">\n",
       "  <thead>\n",
       "    <tr style=\"text-align: right;\">\n",
       "      <th></th>\n",
       "      <th>ForecastPrice</th>\n",
       "      <th>forecast_price_cleaned</th>\n",
       "    </tr>\n",
       "  </thead>\n",
       "  <tbody>\n",
       "    <tr>\n",
       "      <th>0</th>\n",
       "      <td>16-Jan</td>\n",
       "      <td>16.0000</td>\n",
       "    </tr>\n",
       "    <tr>\n",
       "      <th>1</th>\n",
       "      <td>20-Jan</td>\n",
       "      <td>20.0000</td>\n",
       "    </tr>\n",
       "    <tr>\n",
       "      <th>2</th>\n",
       "      <td>10-Jan</td>\n",
       "      <td>10.0000</td>\n",
       "    </tr>\n",
       "    <tr>\n",
       "      <th>3</th>\n",
       "      <td>07-Apr</td>\n",
       "      <td>1.7500</td>\n",
       "    </tr>\n",
       "    <tr>\n",
       "      <th>4</th>\n",
       "      <td>08-Jan</td>\n",
       "      <td>8.0000</td>\n",
       "    </tr>\n",
       "  </tbody>\n",
       "</table>\n",
       "</div>"
      ],
      "text/plain": [
       "  ForecastPrice  forecast_price_cleaned\n",
       "0        16-Jan                 16.0000\n",
       "1        20-Jan                 20.0000\n",
       "2        10-Jan                 10.0000\n",
       "3        07-Apr                  1.7500\n",
       "4        08-Jan                  8.0000"
      ]
     },
     "execution_count": 20,
     "metadata": {},
     "output_type": "execute_result"
    }
   ],
   "source": [
    "df[['ForecastPrice', 'forecast_price_cleaned']].head()"
   ]
  },
  {
   "cell_type": "markdown",
   "metadata": {},
   "source": [
    "### Fill StartingPrice"
   ]
  },
  {
   "cell_type": "code",
   "execution_count": 21,
   "metadata": {},
   "outputs": [],
   "source": [
    "# update dataframe\n",
    "df['starting_price_cleaned'] = pd.concat([corrected['StartingPrice-'],\n",
    "                                          corrected['StartingPrice/']])\n",
    "df['starting_price_cleaned'] = (df['starting_price_cleaned']\n",
    "                                .fillna(df['StartingPrice']))"
   ]
  },
  {
   "cell_type": "code",
   "execution_count": 22,
   "metadata": {},
   "outputs": [
    {
     "data": {
      "text/plain": [
       "count   32009.0000\n",
       "mean       20.6992\n",
       "std        22.7877\n",
       "min         0.1111\n",
       "25%         5.5000\n",
       "50%        12.0000\n",
       "75%        28.0000\n",
       "max       150.0000\n",
       "Name: starting_price_cleaned, dtype: float64"
      ]
     },
     "execution_count": 22,
     "metadata": {},
     "output_type": "execute_result"
    }
   ],
   "source": [
    "df['starting_price_cleaned'].describe()"
   ]
  },
  {
   "cell_type": "code",
   "execution_count": 24,
   "metadata": {},
   "outputs": [
    {
     "name": "stderr",
     "output_type": "stream",
     "text": [
      "1:80: E501 line too long (91 > 79 characters)\n"
     ]
    }
   ],
   "source": [
    "# filling nulls with the 25th percentile - feel that replacing with null is too favourable!\n",
    "pctl = np.nanpercentile(df['starting_price_cleaned'], q=25)\n",
    "df['starting_price_cleaned'] = df['starting_price_cleaned'].fillna(pctl)"
   ]
  },
  {
   "cell_type": "code",
   "execution_count": 25,
   "metadata": {},
   "outputs": [
    {
     "data": {
      "text/html": [
       "<div>\n",
       "<style scoped>\n",
       "    .dataframe tbody tr th:only-of-type {\n",
       "        vertical-align: middle;\n",
       "    }\n",
       "\n",
       "    .dataframe tbody tr th {\n",
       "        vertical-align: top;\n",
       "    }\n",
       "\n",
       "    .dataframe thead th {\n",
       "        text-align: right;\n",
       "    }\n",
       "</style>\n",
       "<table border=\"1\" class=\"dataframe\">\n",
       "  <thead>\n",
       "    <tr style=\"text-align: right;\">\n",
       "      <th></th>\n",
       "      <th>StartingPrice</th>\n",
       "      <th>starting_price_cleaned</th>\n",
       "    </tr>\n",
       "  </thead>\n",
       "  <tbody>\n",
       "    <tr>\n",
       "      <th>0</th>\n",
       "      <td>12-Jan</td>\n",
       "      <td>12.0000</td>\n",
       "    </tr>\n",
       "    <tr>\n",
       "      <th>1</th>\n",
       "      <td>40/1</td>\n",
       "      <td>40.0000</td>\n",
       "    </tr>\n",
       "    <tr>\n",
       "      <th>2</th>\n",
       "      <td>NaN</td>\n",
       "      <td>5.5000</td>\n",
       "    </tr>\n",
       "    <tr>\n",
       "      <th>3</th>\n",
       "      <td>11-Oct</td>\n",
       "      <td>1.1000</td>\n",
       "    </tr>\n",
       "    <tr>\n",
       "      <th>4</th>\n",
       "      <td>NaN</td>\n",
       "      <td>5.5000</td>\n",
       "    </tr>\n",
       "  </tbody>\n",
       "</table>\n",
       "</div>"
      ],
      "text/plain": [
       "  StartingPrice  starting_price_cleaned\n",
       "0        12-Jan                 12.0000\n",
       "1          40/1                 40.0000\n",
       "2           NaN                  5.5000\n",
       "3        11-Oct                  1.1000\n",
       "4           NaN                  5.5000"
      ]
     },
     "execution_count": 25,
     "metadata": {},
     "output_type": "execute_result"
    }
   ],
   "source": [
    "df[['StartingPrice', 'starting_price_cleaned']].head()"
   ]
  },
  {
   "cell_type": "code",
   "execution_count": 173,
   "metadata": {},
   "outputs": [
    {
     "data": {
      "image/png": "[encoded data removed]",
      "text/plain": [
       "<Figure size 864x360 with 1 Axes>"
      ]
     },
     "metadata": {
      "needs_background": "light"
     },
     "output_type": "display_data"
    }
   ],
   "source": [
    "plt.figure(figsize=(12, 5))\n",
    "plt.title('Distribution of decimal odds after cleaning')\n",
    "sns.distplot(df['starting_price_cleaned'], label='starting')\n",
    "plt.vlines(df['starting_price_cleaned'].mean(),\n",
    "           ymin=0, ymax=0.1, colors='b',\n",
    "           linestyles='--', label='starting mean')\n",
    "\n",
    "sns.distplot(df['forecast_price_cleaned'], label='forecast')\n",
    "plt.vlines(df['forecast_price_cleaned'].mean(),\n",
    "           ymin=0, ymax=0.1, colors='orange',\n",
    "           linestyles='--', label='forecast mean')\n",
    "plt.legend()\n",
    "plt.show()"
   ]
  },
  {
   "cell_type": "markdown",
   "metadata": {},
   "source": [
    "On average the return increases closer to the race."
   ]
  },
  {
   "cell_type": "code",
   "execution_count": null,
   "metadata": {},
   "outputs": [],
   "source": [
    "cols_to_remove.extend(prices)"
   ]
  },
  {
   "cell_type": "markdown",
   "metadata": {},
   "source": [
    "Below I have created a variable that tracks the change in price.  I've assumed that `forecast` is a pre-race value, whilst `starting price` is an updated value at the point of the race starting."
   ]
  },
  {
   "cell_type": "code",
   "execution_count": 28,
   "metadata": {},
   "outputs": [],
   "source": [
    "df['price_chg'] = df['starting_price_cleaned'] / df['forecast_price_cleaned']"
   ]
  },
  {
   "cell_type": "code",
   "execution_count": 174,
   "metadata": {},
   "outputs": [
    {
     "data": {
      "text/plain": [
       "0   0.7500\n",
       "1   2.0000\n",
       "2   0.5500\n",
       "3   0.6286\n",
       "4   0.6875\n",
       "Name: price_chg, dtype: float64"
      ]
     },
     "execution_count": 174,
     "metadata": {},
     "output_type": "execute_result"
    }
   ],
   "source": [
    "df['price_chg'].head()"
   ]
  },
  {
   "cell_type": "markdown",
   "metadata": {},
   "source": [
    "If the price change is less than 1, the return has reduced, which means that the odds of winning have increased."
   ]
  },
  {
   "cell_type": "markdown",
   "metadata": {},
   "source": [
    "## CONT HERE\n",
    "## <font color=red>TODO: </font>  \n",
    "* Correct the prices/ odds- DONE  \n",
    "* Create some competition variables, so that the interaction between horse and relative position amonst a field of horses is captured.  \n",
    "* Plot frequency of races over time or something, group by `won`  \n",
    "* Calculate the difference in odds - increasing/ declining might be quite predictive.  \n",
    "* Capture stats on the horses previous performance (time since last race, finish position last race and mean - I think I can use lag function)\n",
    "* Take softmax of the prediction across horses in the race? Otherwise you migth predict several winners in one race!  \n",
    "* Comment on loss function, optimising for the whole race - i.e. should we train on mini-batches containing input of one race at a time?  Could I create a loss function that instead of being a binary classifier, understands there's only one winner and therefore all others must be losers..."
   ]
  },
  {
   "cell_type": "markdown",
   "metadata": {},
   "source": [
    "## Taking a look at the ID variables, are these discrete values useful?"
   ]
  },
  {
   "cell_type": "code",
   "execution_count": 29,
   "metadata": {},
   "outputs": [
    {
     "data": {
      "text/plain": [
       "['RaceID',\n",
       " 'HorseID',\n",
       " 'JockeyID',\n",
       " 'TrainerID',\n",
       " 'OwnerID',\n",
       " 'DamID',\n",
       " 'SireID',\n",
       " 'DamSireID',\n",
       " 'MeetingID',\n",
       " 'CourseID']"
      ]
     },
     "execution_count": 29,
     "metadata": {},
     "output_type": "execute_result"
    }
   ],
   "source": [
    "# grabbing discrete ID vars\n",
    "id_cols = [col for col in df.columns if 'id' in col.lower()]\n",
    "id_cols"
   ]
  },
  {
   "cell_type": "code",
   "execution_count": 30,
   "metadata": {},
   "outputs": [
    {
     "name": "stdout",
     "output_type": "stream",
     "text": [
      "RaceID: 3000\n",
      "HorseID: 6064\n",
      "JockeyID: 249\n",
      "TrainerID: 160\n",
      "OwnerID: 3078\n",
      "DamID: 4182\n",
      "SireID: 297\n",
      "DamSireID: 734\n",
      "MeetingID: 344\n",
      "CourseID: 8\n"
     ]
    }
   ],
   "source": [
    "# cardinality\n",
    "for col in id_cols:\n",
    "    print(f\"\"\"{col}: {len(df[col].unique())}\"\"\")"
   ]
  },
  {
   "cell_type": "markdown",
   "metadata": {},
   "source": [
    "There are 3,000 races, a total of 6,000 participating horses... "
   ]
  },
  {
   "cell_type": "code",
   "execution_count": 74,
   "metadata": {},
   "outputs": [
    {
     "data": {
      "text/plain": [
       "2907"
      ]
     },
     "execution_count": 74,
     "metadata": {},
     "output_type": "execute_result"
    }
   ],
   "source": [
    "# are there as many winners as there are races?\n",
    "df.Won.sum()"
   ]
  },
  {
   "cell_type": "markdown",
   "metadata": {},
   "source": [
    "There isn't a winner for each race! Assuming the RaceID denotes a unique race."
   ]
  },
  {
   "cell_type": "code",
   "execution_count": 81,
   "metadata": {},
   "outputs": [
    {
     "data": {
      "text/html": [
       "<div>\n",
       "<style scoped>\n",
       "    .dataframe tbody tr th:only-of-type {\n",
       "        vertical-align: middle;\n",
       "    }\n",
       "\n",
       "    .dataframe tbody tr th {\n",
       "        vertical-align: top;\n",
       "    }\n",
       "\n",
       "    .dataframe thead th {\n",
       "        text-align: right;\n",
       "    }\n",
       "</style>\n",
       "<table border=\"1\" class=\"dataframe\">\n",
       "  <thead>\n",
       "    <tr style=\"text-align: right;\">\n",
       "      <th></th>\n",
       "      <th>RaceID</th>\n",
       "      <th>HorseID</th>\n",
       "      <th>Cloth</th>\n",
       "      <th>Stall</th>\n",
       "      <th>WeightValue</th>\n",
       "      <th>JockeyID</th>\n",
       "      <th>AllowanceValue</th>\n",
       "      <th>OverweightValue</th>\n",
       "      <th>TrainerID</th>\n",
       "      <th>OwnerID</th>\n",
       "      <th>LastRunDaysFlat</th>\n",
       "      <th>Age</th>\n",
       "      <th>Blinkers</th>\n",
       "      <th>Hood</th>\n",
       "      <th>Visor</th>\n",
       "      <th>EyeShield</th>\n",
       "      <th>Eyecover</th>\n",
       "      <th>TongueStrap</th>\n",
       "      <th>CheekPieces</th>\n",
       "      <th>ForecastPrice</th>\n",
       "      <th>StatCourse</th>\n",
       "      <th>StatDistance</th>\n",
       "      <th>StatCourseDistance</th>\n",
       "      <th>...</th>\n",
       "      <th>Weather_Fine but Cloudy</th>\n",
       "      <th>Weather_Overcast</th>\n",
       "      <th>Weather_Raining</th>\n",
       "      <th>Weather_Sunny</th>\n",
       "      <th>Weather_Sunny &amp; Warm</th>\n",
       "      <th>Weather_Sunny &amp; Windy</th>\n",
       "      <th>Weather_Sunny Intervals</th>\n",
       "      <th>Weather_Unsettled</th>\n",
       "      <th>Going_Good</th>\n",
       "      <th>Going_Good to Firm</th>\n",
       "      <th>Going_Good to Soft</th>\n",
       "      <th>Going_Heavy</th>\n",
       "      <th>Going_Soft</th>\n",
       "      <th>Going_Soft (Heavy in places)</th>\n",
       "      <th>Going_Standard</th>\n",
       "      <th>Sex_c</th>\n",
       "      <th>Sex_f</th>\n",
       "      <th>Sex_g</th>\n",
       "      <th>Sex_h</th>\n",
       "      <th>Sex_m</th>\n",
       "      <th>TrackType_Polytrack</th>\n",
       "      <th>TrackType_Sand</th>\n",
       "      <th>TrackType_Turf</th>\n",
       "    </tr>\n",
       "  </thead>\n",
       "  <tbody>\n",
       "    <tr>\n",
       "      <th>0</th>\n",
       "      <td>989418</td>\n",
       "      <td>2963489</td>\n",
       "      <td>7</td>\n",
       "      <td>5.0000</td>\n",
       "      <td>132</td>\n",
       "      <td>1398052.0000</td>\n",
       "      <td>nan</td>\n",
       "      <td>nan</td>\n",
       "      <td>1198534</td>\n",
       "      <td>1289143.0000</td>\n",
       "      <td>26.0000</td>\n",
       "      <td>3.0000</td>\n",
       "      <td>nan</td>\n",
       "      <td>nan</td>\n",
       "      <td>nan</td>\n",
       "      <td>nan</td>\n",
       "      <td>nan</td>\n",
       "      <td>nan</td>\n",
       "      <td>nan</td>\n",
       "      <td>16-Jan</td>\n",
       "      <td>nan</td>\n",
       "      <td>nan</td>\n",
       "      <td>nan</td>\n",
       "      <td>...</td>\n",
       "      <td>0</td>\n",
       "      <td>0</td>\n",
       "      <td>0</td>\n",
       "      <td>0</td>\n",
       "      <td>0</td>\n",
       "      <td>0</td>\n",
       "      <td>0</td>\n",
       "      <td>0</td>\n",
       "      <td>1</td>\n",
       "      <td>0</td>\n",
       "      <td>0</td>\n",
       "      <td>0</td>\n",
       "      <td>0</td>\n",
       "      <td>0</td>\n",
       "      <td>0</td>\n",
       "      <td>0</td>\n",
       "      <td>1</td>\n",
       "      <td>0</td>\n",
       "      <td>0</td>\n",
       "      <td>0</td>\n",
       "      <td>0</td>\n",
       "      <td>0</td>\n",
       "      <td>1</td>\n",
       "    </tr>\n",
       "    <tr>\n",
       "      <th>1</th>\n",
       "      <td>989418</td>\n",
       "      <td>2972665</td>\n",
       "      <td>13</td>\n",
       "      <td>6.0000</td>\n",
       "      <td>132</td>\n",
       "      <td>1165412.0000</td>\n",
       "      <td>nan</td>\n",
       "      <td>nan</td>\n",
       "      <td>1188128</td>\n",
       "      <td>1140080.0000</td>\n",
       "      <td>nan</td>\n",
       "      <td>3.0000</td>\n",
       "      <td>nan</td>\n",
       "      <td>nan</td>\n",
       "      <td>nan</td>\n",
       "      <td>nan</td>\n",
       "      <td>nan</td>\n",
       "      <td>nan</td>\n",
       "      <td>nan</td>\n",
       "      <td>20-Jan</td>\n",
       "      <td>nan</td>\n",
       "      <td>nan</td>\n",
       "      <td>nan</td>\n",
       "      <td>...</td>\n",
       "      <td>0</td>\n",
       "      <td>0</td>\n",
       "      <td>0</td>\n",
       "      <td>0</td>\n",
       "      <td>0</td>\n",
       "      <td>0</td>\n",
       "      <td>0</td>\n",
       "      <td>0</td>\n",
       "      <td>1</td>\n",
       "      <td>0</td>\n",
       "      <td>0</td>\n",
       "      <td>0</td>\n",
       "      <td>0</td>\n",
       "      <td>0</td>\n",
       "      <td>0</td>\n",
       "      <td>0</td>\n",
       "      <td>1</td>\n",
       "      <td>0</td>\n",
       "      <td>0</td>\n",
       "      <td>0</td>\n",
       "      <td>0</td>\n",
       "      <td>0</td>\n",
       "      <td>1</td>\n",
       "    </tr>\n",
       "    <tr>\n",
       "      <th>2</th>\n",
       "      <td>989418</td>\n",
       "      <td>2972662</td>\n",
       "      <td>9</td>\n",
       "      <td>7.0000</td>\n",
       "      <td>132</td>\n",
       "      <td>1239852.0000</td>\n",
       "      <td>nan</td>\n",
       "      <td>nan</td>\n",
       "      <td>1199122</td>\n",
       "      <td>1448576.0000</td>\n",
       "      <td>nan</td>\n",
       "      <td>3.0000</td>\n",
       "      <td>nan</td>\n",
       "      <td>nan</td>\n",
       "      <td>nan</td>\n",
       "      <td>nan</td>\n",
       "      <td>nan</td>\n",
       "      <td>nan</td>\n",
       "      <td>nan</td>\n",
       "      <td>10-Jan</td>\n",
       "      <td>nan</td>\n",
       "      <td>nan</td>\n",
       "      <td>nan</td>\n",
       "      <td>...</td>\n",
       "      <td>0</td>\n",
       "      <td>0</td>\n",
       "      <td>0</td>\n",
       "      <td>0</td>\n",
       "      <td>0</td>\n",
       "      <td>0</td>\n",
       "      <td>0</td>\n",
       "      <td>0</td>\n",
       "      <td>1</td>\n",
       "      <td>0</td>\n",
       "      <td>0</td>\n",
       "      <td>0</td>\n",
       "      <td>0</td>\n",
       "      <td>0</td>\n",
       "      <td>0</td>\n",
       "      <td>0</td>\n",
       "      <td>1</td>\n",
       "      <td>0</td>\n",
       "      <td>0</td>\n",
       "      <td>0</td>\n",
       "      <td>0</td>\n",
       "      <td>0</td>\n",
       "      <td>1</td>\n",
       "    </tr>\n",
       "    <tr>\n",
       "      <th>3</th>\n",
       "      <td>989418</td>\n",
       "      <td>2960365</td>\n",
       "      <td>1</td>\n",
       "      <td>12.0000</td>\n",
       "      <td>132</td>\n",
       "      <td>1417524.0000</td>\n",
       "      <td>nan</td>\n",
       "      <td>nan</td>\n",
       "      <td>1049637</td>\n",
       "      <td>1487690.0000</td>\n",
       "      <td>33.0000</td>\n",
       "      <td>3.0000</td>\n",
       "      <td>nan</td>\n",
       "      <td>nan</td>\n",
       "      <td>nan</td>\n",
       "      <td>nan</td>\n",
       "      <td>nan</td>\n",
       "      <td>nan</td>\n",
       "      <td>nan</td>\n",
       "      <td>07-Apr</td>\n",
       "      <td>nan</td>\n",
       "      <td>nan</td>\n",
       "      <td>nan</td>\n",
       "      <td>...</td>\n",
       "      <td>0</td>\n",
       "      <td>0</td>\n",
       "      <td>0</td>\n",
       "      <td>0</td>\n",
       "      <td>0</td>\n",
       "      <td>0</td>\n",
       "      <td>0</td>\n",
       "      <td>0</td>\n",
       "      <td>1</td>\n",
       "      <td>0</td>\n",
       "      <td>0</td>\n",
       "      <td>0</td>\n",
       "      <td>0</td>\n",
       "      <td>0</td>\n",
       "      <td>0</td>\n",
       "      <td>0</td>\n",
       "      <td>1</td>\n",
       "      <td>0</td>\n",
       "      <td>0</td>\n",
       "      <td>0</td>\n",
       "      <td>0</td>\n",
       "      <td>0</td>\n",
       "      <td>1</td>\n",
       "    </tr>\n",
       "    <tr>\n",
       "      <th>4</th>\n",
       "      <td>989418</td>\n",
       "      <td>2968596</td>\n",
       "      <td>11</td>\n",
       "      <td>8.0000</td>\n",
       "      <td>132</td>\n",
       "      <td>1354773.0000</td>\n",
       "      <td>nan</td>\n",
       "      <td>nan</td>\n",
       "      <td>1140041</td>\n",
       "      <td>1403676.0000</td>\n",
       "      <td>24.0000</td>\n",
       "      <td>3.0000</td>\n",
       "      <td>nan</td>\n",
       "      <td>nan</td>\n",
       "      <td>nan</td>\n",
       "      <td>nan</td>\n",
       "      <td>nan</td>\n",
       "      <td>nan</td>\n",
       "      <td>nan</td>\n",
       "      <td>08-Jan</td>\n",
       "      <td>nan</td>\n",
       "      <td>nan</td>\n",
       "      <td>nan</td>\n",
       "      <td>...</td>\n",
       "      <td>0</td>\n",
       "      <td>0</td>\n",
       "      <td>0</td>\n",
       "      <td>0</td>\n",
       "      <td>0</td>\n",
       "      <td>0</td>\n",
       "      <td>0</td>\n",
       "      <td>0</td>\n",
       "      <td>1</td>\n",
       "      <td>0</td>\n",
       "      <td>0</td>\n",
       "      <td>0</td>\n",
       "      <td>0</td>\n",
       "      <td>0</td>\n",
       "      <td>0</td>\n",
       "      <td>0</td>\n",
       "      <td>1</td>\n",
       "      <td>0</td>\n",
       "      <td>0</td>\n",
       "      <td>0</td>\n",
       "      <td>0</td>\n",
       "      <td>0</td>\n",
       "      <td>1</td>\n",
       "    </tr>\n",
       "  </tbody>\n",
       "</table>\n",
       "<p>5 rows × 102 columns</p>\n",
       "</div>"
      ],
      "text/plain": [
       "   RaceID  HorseID  Cloth   Stall  WeightValue     JockeyID  AllowanceValue  \\\n",
       "0  989418  2963489      7  5.0000          132 1398052.0000             nan   \n",
       "1  989418  2972665     13  6.0000          132 1165412.0000             nan   \n",
       "2  989418  2972662      9  7.0000          132 1239852.0000             nan   \n",
       "3  989418  2960365      1 12.0000          132 1417524.0000             nan   \n",
       "4  989418  2968596     11  8.0000          132 1354773.0000             nan   \n",
       "\n",
       "   OverweightValue  TrainerID      OwnerID  LastRunDaysFlat    Age  Blinkers  \\\n",
       "0              nan    1198534 1289143.0000          26.0000 3.0000       nan   \n",
       "1              nan    1188128 1140080.0000              nan 3.0000       nan   \n",
       "2              nan    1199122 1448576.0000              nan 3.0000       nan   \n",
       "3              nan    1049637 1487690.0000          33.0000 3.0000       nan   \n",
       "4              nan    1140041 1403676.0000          24.0000 3.0000       nan   \n",
       "\n",
       "   Hood  Visor  EyeShield  Eyecover  TongueStrap  CheekPieces ForecastPrice  \\\n",
       "0   nan    nan        nan       nan          nan          nan        16-Jan   \n",
       "1   nan    nan        nan       nan          nan          nan        20-Jan   \n",
       "2   nan    nan        nan       nan          nan          nan        10-Jan   \n",
       "3   nan    nan        nan       nan          nan          nan        07-Apr   \n",
       "4   nan    nan        nan       nan          nan          nan        08-Jan   \n",
       "\n",
       "   StatCourse  StatDistance  StatCourseDistance  ... Weather_Fine but Cloudy  \\\n",
       "0         nan           nan                 nan  ...                       0   \n",
       "1         nan           nan                 nan  ...                       0   \n",
       "2         nan           nan                 nan  ...                       0   \n",
       "3         nan           nan                 nan  ...                       0   \n",
       "4         nan           nan                 nan  ...                       0   \n",
       "\n",
       "  Weather_Overcast  Weather_Raining  Weather_Sunny  Weather_Sunny & Warm  \\\n",
       "0                0                0              0                     0   \n",
       "1                0                0              0                     0   \n",
       "2                0                0              0                     0   \n",
       "3                0                0              0                     0   \n",
       "4                0                0              0                     0   \n",
       "\n",
       "  Weather_Sunny & Windy Weather_Sunny Intervals  Weather_Unsettled  \\\n",
       "0                     0                       0                  0   \n",
       "1                     0                       0                  0   \n",
       "2                     0                       0                  0   \n",
       "3                     0                       0                  0   \n",
       "4                     0                       0                  0   \n",
       "\n",
       "   Going_Good  Going_Good to Firm Going_Good to Soft  Going_Heavy  Going_Soft  \\\n",
       "0           1                   0                  0            0           0   \n",
       "1           1                   0                  0            0           0   \n",
       "2           1                   0                  0            0           0   \n",
       "3           1                   0                  0            0           0   \n",
       "4           1                   0                  0            0           0   \n",
       "\n",
       "  Going_Soft (Heavy in places) Going_Standard  Sex_c Sex_f Sex_g  Sex_h Sex_m  \\\n",
       "0                            0              0      0     1     0      0     0   \n",
       "1                            0              0      0     1     0      0     0   \n",
       "2                            0              0      0     1     0      0     0   \n",
       "3                            0              0      0     1     0      0     0   \n",
       "4                            0              0      0     1     0      0     0   \n",
       "\n",
       "   TrackType_Polytrack TrackType_Sand  TrackType_Turf  \n",
       "0                    0              0               1  \n",
       "1                    0              0               1  \n",
       "2                    0              0               1  \n",
       "3                    0              0               1  \n",
       "4                    0              0               1  \n",
       "\n",
       "[5 rows x 102 columns]"
      ]
     },
     "execution_count": 81,
     "metadata": {},
     "output_type": "execute_result"
    }
   ],
   "source": [
    "df.head()"
   ]
  },
  {
   "cell_type": "code",
   "execution_count": 34,
   "metadata": {},
   "outputs": [
    {
     "data": {
      "text/html": [
       "<div>\n",
       "<style scoped>\n",
       "    .dataframe tbody tr th:only-of-type {\n",
       "        vertical-align: middle;\n",
       "    }\n",
       "\n",
       "    .dataframe tbody tr th {\n",
       "        vertical-align: top;\n",
       "    }\n",
       "\n",
       "    .dataframe thead th {\n",
       "        text-align: right;\n",
       "    }\n",
       "</style>\n",
       "<table border=\"1\" class=\"dataframe\">\n",
       "  <thead>\n",
       "    <tr style=\"text-align: right;\">\n",
       "      <th></th>\n",
       "      <th>RaceID</th>\n",
       "      <th>HorseID</th>\n",
       "      <th>Cloth</th>\n",
       "      <th>Stall</th>\n",
       "      <th>WeightValue</th>\n",
       "      <th>JockeyID</th>\n",
       "      <th>TrainerID</th>\n",
       "      <th>OwnerID</th>\n",
       "      <th>LastRunDaysFlat</th>\n",
       "      <th>Age</th>\n",
       "      <th>Bred</th>\n",
       "      <th>DamID</th>\n",
       "      <th>SireID</th>\n",
       "      <th>DamSireID</th>\n",
       "      <th>Sex</th>\n",
       "      <th>Colour</th>\n",
       "      <th>MeetingID</th>\n",
       "      <th>RaceNumber</th>\n",
       "      <th>ScheduledTime</th>\n",
       "      <th>HorseCount</th>\n",
       "      <th>Runners</th>\n",
       "      <th>Going</th>\n",
       "      <th>Weather</th>\n",
       "      <th>Course_Distance</th>\n",
       "      <th>RaceType</th>\n",
       "      <th>TrackType</th>\n",
       "      <th>Handicap</th>\n",
       "      <th>eligibility</th>\n",
       "      <th>CourseID</th>\n",
       "      <th>MeetingDate</th>\n",
       "      <th>Won</th>\n",
       "      <th>forecast_price_cleaned</th>\n",
       "      <th>starting_price_cleaned</th>\n",
       "      <th>price_chg</th>\n",
       "    </tr>\n",
       "  </thead>\n",
       "  <tbody>\n",
       "    <tr>\n",
       "      <th>0</th>\n",
       "      <td>989418</td>\n",
       "      <td>2963489</td>\n",
       "      <td>7</td>\n",
       "      <td>5.0000</td>\n",
       "      <td>132</td>\n",
       "      <td>1398052.0000</td>\n",
       "      <td>1198534</td>\n",
       "      <td>1289143.0000</td>\n",
       "      <td>26.0000</td>\n",
       "      <td>3.0000</td>\n",
       "      <td>SAF</td>\n",
       "      <td>2803520.0000</td>\n",
       "      <td>2004880.0000</td>\n",
       "      <td>2179351.0000</td>\n",
       "      <td>f</td>\n",
       "      <td>b</td>\n",
       "      <td>87048</td>\n",
       "      <td>1</td>\n",
       "      <td>##########</td>\n",
       "      <td>13</td>\n",
       "      <td>11.0000</td>\n",
       "      <td>Good</td>\n",
       "      <td>Cloudy</td>\n",
       "      <td>1312</td>\n",
       "      <td>Flat</td>\n",
       "      <td>Turf</td>\n",
       "      <td>0.0000</td>\n",
       "      <td>2YO only</td>\n",
       "      <td>380</td>\n",
       "      <td>02/05/2017</td>\n",
       "      <td>0</td>\n",
       "      <td>16.0000</td>\n",
       "      <td>12.0000</td>\n",
       "      <td>0.7500</td>\n",
       "    </tr>\n",
       "    <tr>\n",
       "      <th>1</th>\n",
       "      <td>989418</td>\n",
       "      <td>2972665</td>\n",
       "      <td>13</td>\n",
       "      <td>6.0000</td>\n",
       "      <td>132</td>\n",
       "      <td>1165412.0000</td>\n",
       "      <td>1188128</td>\n",
       "      <td>1140080.0000</td>\n",
       "      <td>nan</td>\n",
       "      <td>3.0000</td>\n",
       "      <td>SAF</td>\n",
       "      <td>2749301.0000</td>\n",
       "      <td>2960049.0000</td>\n",
       "      <td>2001540.0000</td>\n",
       "      <td>f</td>\n",
       "      <td>b</td>\n",
       "      <td>87048</td>\n",
       "      <td>1</td>\n",
       "      <td>##########</td>\n",
       "      <td>13</td>\n",
       "      <td>11.0000</td>\n",
       "      <td>Good</td>\n",
       "      <td>Cloudy</td>\n",
       "      <td>1312</td>\n",
       "      <td>Flat</td>\n",
       "      <td>Turf</td>\n",
       "      <td>0.0000</td>\n",
       "      <td>2YO only</td>\n",
       "      <td>380</td>\n",
       "      <td>02/05/2017</td>\n",
       "      <td>0</td>\n",
       "      <td>20.0000</td>\n",
       "      <td>40.0000</td>\n",
       "      <td>2.0000</td>\n",
       "    </tr>\n",
       "    <tr>\n",
       "      <th>2</th>\n",
       "      <td>989418</td>\n",
       "      <td>2972662</td>\n",
       "      <td>9</td>\n",
       "      <td>7.0000</td>\n",
       "      <td>132</td>\n",
       "      <td>1239852.0000</td>\n",
       "      <td>1199122</td>\n",
       "      <td>1448576.0000</td>\n",
       "      <td>nan</td>\n",
       "      <td>3.0000</td>\n",
       "      <td>SAF</td>\n",
       "      <td>2761722.0000</td>\n",
       "      <td>2441786.0000</td>\n",
       "      <td>2123459.0000</td>\n",
       "      <td>f</td>\n",
       "      <td>b</td>\n",
       "      <td>87048</td>\n",
       "      <td>1</td>\n",
       "      <td>##########</td>\n",
       "      <td>13</td>\n",
       "      <td>11.0000</td>\n",
       "      <td>Good</td>\n",
       "      <td>Cloudy</td>\n",
       "      <td>1312</td>\n",
       "      <td>Flat</td>\n",
       "      <td>Turf</td>\n",
       "      <td>0.0000</td>\n",
       "      <td>2YO only</td>\n",
       "      <td>380</td>\n",
       "      <td>02/05/2017</td>\n",
       "      <td>0</td>\n",
       "      <td>10.0000</td>\n",
       "      <td>5.5000</td>\n",
       "      <td>0.5500</td>\n",
       "    </tr>\n",
       "    <tr>\n",
       "      <th>3</th>\n",
       "      <td>989418</td>\n",
       "      <td>2960365</td>\n",
       "      <td>1</td>\n",
       "      <td>12.0000</td>\n",
       "      <td>132</td>\n",
       "      <td>1417524.0000</td>\n",
       "      <td>1049637</td>\n",
       "      <td>1487690.0000</td>\n",
       "      <td>33.0000</td>\n",
       "      <td>3.0000</td>\n",
       "      <td>SAF</td>\n",
       "      <td>2347111.0000</td>\n",
       "      <td>2170013.0000</td>\n",
       "      <td>2071137.0000</td>\n",
       "      <td>f</td>\n",
       "      <td>b</td>\n",
       "      <td>87048</td>\n",
       "      <td>1</td>\n",
       "      <td>##########</td>\n",
       "      <td>13</td>\n",
       "      <td>11.0000</td>\n",
       "      <td>Good</td>\n",
       "      <td>Cloudy</td>\n",
       "      <td>1312</td>\n",
       "      <td>Flat</td>\n",
       "      <td>Turf</td>\n",
       "      <td>0.0000</td>\n",
       "      <td>2YO only</td>\n",
       "      <td>380</td>\n",
       "      <td>02/05/2017</td>\n",
       "      <td>1</td>\n",
       "      <td>1.7500</td>\n",
       "      <td>1.1000</td>\n",
       "      <td>0.6286</td>\n",
       "    </tr>\n",
       "    <tr>\n",
       "      <th>4</th>\n",
       "      <td>989418</td>\n",
       "      <td>2968596</td>\n",
       "      <td>11</td>\n",
       "      <td>8.0000</td>\n",
       "      <td>132</td>\n",
       "      <td>1354773.0000</td>\n",
       "      <td>1140041</td>\n",
       "      <td>1403676.0000</td>\n",
       "      <td>24.0000</td>\n",
       "      <td>3.0000</td>\n",
       "      <td>SAF</td>\n",
       "      <td>2618721.0000</td>\n",
       "      <td>2410998.0000</td>\n",
       "      <td>2170115.0000</td>\n",
       "      <td>f</td>\n",
       "      <td>b</td>\n",
       "      <td>87048</td>\n",
       "      <td>1</td>\n",
       "      <td>##########</td>\n",
       "      <td>13</td>\n",
       "      <td>11.0000</td>\n",
       "      <td>Good</td>\n",
       "      <td>Cloudy</td>\n",
       "      <td>1312</td>\n",
       "      <td>Flat</td>\n",
       "      <td>Turf</td>\n",
       "      <td>0.0000</td>\n",
       "      <td>2YO only</td>\n",
       "      <td>380</td>\n",
       "      <td>02/05/2017</td>\n",
       "      <td>0</td>\n",
       "      <td>8.0000</td>\n",
       "      <td>5.5000</td>\n",
       "      <td>0.6875</td>\n",
       "    </tr>\n",
       "  </tbody>\n",
       "</table>\n",
       "</div>"
      ],
      "text/plain": [
       "   RaceID  HorseID  Cloth   Stall  WeightValue     JockeyID  TrainerID  \\\n",
       "0  989418  2963489      7  5.0000          132 1398052.0000    1198534   \n",
       "1  989418  2972665     13  6.0000          132 1165412.0000    1188128   \n",
       "2  989418  2972662      9  7.0000          132 1239852.0000    1199122   \n",
       "3  989418  2960365      1 12.0000          132 1417524.0000    1049637   \n",
       "4  989418  2968596     11  8.0000          132 1354773.0000    1140041   \n",
       "\n",
       "       OwnerID  LastRunDaysFlat    Age Bred        DamID       SireID  \\\n",
       "0 1289143.0000          26.0000 3.0000  SAF 2803520.0000 2004880.0000   \n",
       "1 1140080.0000              nan 3.0000  SAF 2749301.0000 2960049.0000   \n",
       "2 1448576.0000              nan 3.0000  SAF 2761722.0000 2441786.0000   \n",
       "3 1487690.0000          33.0000 3.0000  SAF 2347111.0000 2170013.0000   \n",
       "4 1403676.0000          24.0000 3.0000  SAF 2618721.0000 2410998.0000   \n",
       "\n",
       "     DamSireID Sex Colour  MeetingID  RaceNumber ScheduledTime  HorseCount  \\\n",
       "0 2179351.0000   f      b      87048           1    ##########          13   \n",
       "1 2001540.0000   f      b      87048           1    ##########          13   \n",
       "2 2123459.0000   f      b      87048           1    ##########          13   \n",
       "3 2071137.0000   f      b      87048           1    ##########          13   \n",
       "4 2170115.0000   f      b      87048           1    ##########          13   \n",
       "\n",
       "   Runners Going Weather  Course_Distance RaceType TrackType  Handicap  \\\n",
       "0  11.0000  Good  Cloudy             1312     Flat      Turf    0.0000   \n",
       "1  11.0000  Good  Cloudy             1312     Flat      Turf    0.0000   \n",
       "2  11.0000  Good  Cloudy             1312     Flat      Turf    0.0000   \n",
       "3  11.0000  Good  Cloudy             1312     Flat      Turf    0.0000   \n",
       "4  11.0000  Good  Cloudy             1312     Flat      Turf    0.0000   \n",
       "\n",
       "  eligibility  CourseID MeetingDate  Won  forecast_price_cleaned  \\\n",
       "0    2YO only       380  02/05/2017    0                 16.0000   \n",
       "1    2YO only       380  02/05/2017    0                 20.0000   \n",
       "2    2YO only       380  02/05/2017    0                 10.0000   \n",
       "3    2YO only       380  02/05/2017    1                  1.7500   \n",
       "4    2YO only       380  02/05/2017    0                  8.0000   \n",
       "\n",
       "   starting_price_cleaned  price_chg  \n",
       "0                 12.0000     0.7500  \n",
       "1                 40.0000     2.0000  \n",
       "2                  5.5000     0.5500  \n",
       "3                  1.1000     0.6286  \n",
       "4                  5.5000     0.6875  "
      ]
     },
     "execution_count": 34,
     "metadata": {},
     "output_type": "execute_result"
    }
   ],
   "source": [
    "df.drop(columns=cols_to_remove).head()"
   ]
  },
  {
   "cell_type": "code",
   "execution_count": 30,
   "metadata": {},
   "outputs": [
    {
     "data": {
      "text/html": [
       "<div>\n",
       "<style scoped>\n",
       "    .dataframe tbody tr th:only-of-type {\n",
       "        vertical-align: middle;\n",
       "    }\n",
       "\n",
       "    .dataframe tbody tr th {\n",
       "        vertical-align: top;\n",
       "    }\n",
       "\n",
       "    .dataframe thead th {\n",
       "        text-align: right;\n",
       "    }\n",
       "</style>\n",
       "<table border=\"1\" class=\"dataframe\">\n",
       "  <thead>\n",
       "    <tr style=\"text-align: right;\">\n",
       "      <th></th>\n",
       "      <th>RaceID</th>\n",
       "      <th>HorseID</th>\n",
       "      <th>JockeyID</th>\n",
       "      <th>TrainerID</th>\n",
       "      <th>OwnerID</th>\n",
       "      <th>DamID</th>\n",
       "      <th>SireID</th>\n",
       "      <th>DamSireID</th>\n",
       "      <th>MeetingID</th>\n",
       "      <th>CourseID</th>\n",
       "    </tr>\n",
       "  </thead>\n",
       "  <tbody>\n",
       "    <tr>\n",
       "      <th>0</th>\n",
       "      <td>989418</td>\n",
       "      <td>2963489</td>\n",
       "      <td>1398052.0</td>\n",
       "      <td>1198534</td>\n",
       "      <td>1289143.0</td>\n",
       "      <td>2803520.0</td>\n",
       "      <td>2004880.0</td>\n",
       "      <td>2179351.0</td>\n",
       "      <td>87048</td>\n",
       "      <td>380</td>\n",
       "    </tr>\n",
       "    <tr>\n",
       "      <th>1</th>\n",
       "      <td>989418</td>\n",
       "      <td>2972665</td>\n",
       "      <td>1165412.0</td>\n",
       "      <td>1188128</td>\n",
       "      <td>1140080.0</td>\n",
       "      <td>2749301.0</td>\n",
       "      <td>2960049.0</td>\n",
       "      <td>2001540.0</td>\n",
       "      <td>87048</td>\n",
       "      <td>380</td>\n",
       "    </tr>\n",
       "    <tr>\n",
       "      <th>2</th>\n",
       "      <td>989418</td>\n",
       "      <td>2972662</td>\n",
       "      <td>1239852.0</td>\n",
       "      <td>1199122</td>\n",
       "      <td>1448576.0</td>\n",
       "      <td>2761722.0</td>\n",
       "      <td>2441786.0</td>\n",
       "      <td>2123459.0</td>\n",
       "      <td>87048</td>\n",
       "      <td>380</td>\n",
       "    </tr>\n",
       "    <tr>\n",
       "      <th>3</th>\n",
       "      <td>989418</td>\n",
       "      <td>2960365</td>\n",
       "      <td>1417524.0</td>\n",
       "      <td>1049637</td>\n",
       "      <td>1487690.0</td>\n",
       "      <td>2347111.0</td>\n",
       "      <td>2170013.0</td>\n",
       "      <td>2071137.0</td>\n",
       "      <td>87048</td>\n",
       "      <td>380</td>\n",
       "    </tr>\n",
       "    <tr>\n",
       "      <th>4</th>\n",
       "      <td>989418</td>\n",
       "      <td>2968596</td>\n",
       "      <td>1354773.0</td>\n",
       "      <td>1140041</td>\n",
       "      <td>1403676.0</td>\n",
       "      <td>2618721.0</td>\n",
       "      <td>2410998.0</td>\n",
       "      <td>2170115.0</td>\n",
       "      <td>87048</td>\n",
       "      <td>380</td>\n",
       "    </tr>\n",
       "    <tr>\n",
       "      <th>...</th>\n",
       "      <td>...</td>\n",
       "      <td>...</td>\n",
       "      <td>...</td>\n",
       "      <td>...</td>\n",
       "      <td>...</td>\n",
       "      <td>...</td>\n",
       "      <td>...</td>\n",
       "      <td>...</td>\n",
       "      <td>...</td>\n",
       "      <td>...</td>\n",
       "    </tr>\n",
       "    <tr>\n",
       "      <th>36814</th>\n",
       "      <td>1028128</td>\n",
       "      <td>2980319</td>\n",
       "      <td>1165412.0</td>\n",
       "      <td>1079200</td>\n",
       "      <td>1492946.0</td>\n",
       "      <td>2626929.0</td>\n",
       "      <td>2005847.0</td>\n",
       "      <td>2167985.0</td>\n",
       "      <td>91584</td>\n",
       "      <td>325</td>\n",
       "    </tr>\n",
       "    <tr>\n",
       "      <th>36815</th>\n",
       "      <td>1028128</td>\n",
       "      <td>2985033</td>\n",
       "      <td>1079281.0</td>\n",
       "      <td>1403297</td>\n",
       "      <td>1494400.0</td>\n",
       "      <td>2632498.0</td>\n",
       "      <td>2058573.0</td>\n",
       "      <td>2000564.0</td>\n",
       "      <td>91584</td>\n",
       "      <td>325</td>\n",
       "    </tr>\n",
       "    <tr>\n",
       "      <th>36816</th>\n",
       "      <td>1028128</td>\n",
       "      <td>2977403</td>\n",
       "      <td>1440495.0</td>\n",
       "      <td>1079200</td>\n",
       "      <td>1482459.0</td>\n",
       "      <td>2653726.0</td>\n",
       "      <td>2854936.0</td>\n",
       "      <td>2264809.0</td>\n",
       "      <td>91584</td>\n",
       "      <td>325</td>\n",
       "    </tr>\n",
       "    <tr>\n",
       "      <th>36817</th>\n",
       "      <td>1028128</td>\n",
       "      <td>2978297</td>\n",
       "      <td>1288634.0</td>\n",
       "      <td>1079234</td>\n",
       "      <td>1492370.0</td>\n",
       "      <td>2736480.0</td>\n",
       "      <td>2699207.0</td>\n",
       "      <td>2705498.0</td>\n",
       "      <td>91584</td>\n",
       "      <td>325</td>\n",
       "    </tr>\n",
       "    <tr>\n",
       "      <th>36818</th>\n",
       "      <td>1028128</td>\n",
       "      <td>3007603</td>\n",
       "      <td>1200677.0</td>\n",
       "      <td>1491252</td>\n",
       "      <td>1290304.0</td>\n",
       "      <td>2618887.0</td>\n",
       "      <td>2345894.0</td>\n",
       "      <td>2129959.0</td>\n",
       "      <td>91584</td>\n",
       "      <td>325</td>\n",
       "    </tr>\n",
       "  </tbody>\n",
       "</table>\n",
       "<p>36819 rows × 10 columns</p>\n",
       "</div>"
      ],
      "text/plain": [
       "        RaceID  HorseID   JockeyID TrainerID    OwnerID      DamID     SireID  \\\n",
       "0       989418  2963489  1398052.0   1198534  1289143.0  2803520.0  2004880.0   \n",
       "1       989418  2972665  1165412.0   1188128  1140080.0  2749301.0  2960049.0   \n",
       "2       989418  2972662  1239852.0   1199122  1448576.0  2761722.0  2441786.0   \n",
       "3       989418  2960365  1417524.0   1049637  1487690.0  2347111.0  2170013.0   \n",
       "4       989418  2968596  1354773.0   1140041  1403676.0  2618721.0  2410998.0   \n",
       "...        ...      ...        ...       ...        ...        ...        ...   \n",
       "36814  1028128  2980319  1165412.0   1079200  1492946.0  2626929.0  2005847.0   \n",
       "36815  1028128  2985033  1079281.0   1403297  1494400.0  2632498.0  2058573.0   \n",
       "36816  1028128  2977403  1440495.0   1079200  1482459.0  2653726.0  2854936.0   \n",
       "36817  1028128  2978297  1288634.0   1079234  1492370.0  2736480.0  2699207.0   \n",
       "36818  1028128  3007603  1200677.0   1491252  1290304.0  2618887.0  2345894.0   \n",
       "\n",
       "       DamSireID MeetingID CourseID  \n",
       "0      2179351.0     87048      380  \n",
       "1      2001540.0     87048      380  \n",
       "2      2123459.0     87048      380  \n",
       "3      2071137.0     87048      380  \n",
       "4      2170115.0     87048      380  \n",
       "...          ...       ...      ...  \n",
       "36814  2167985.0     91584      325  \n",
       "36815  2000564.0     91584      325  \n",
       "36816  2264809.0     91584      325  \n",
       "36817  2705498.0     91584      325  \n",
       "36818  2129959.0     91584      325  \n",
       "\n",
       "[36819 rows x 10 columns]"
      ]
     },
     "execution_count": 30,
     "metadata": {},
     "output_type": "execute_result"
    }
   ],
   "source": [
    "# let's convert the ID's to string as they're discrete and going probably not \n",
    "df[id_cols].astype(str)"
   ]
  },
  {
   "cell_type": "markdown",
   "metadata": {},
   "source": [
    "## Categorical variables...  \n",
    "Are they all IDs? Should I one-hot encode?"
   ]
  },
  {
   "cell_type": "code",
   "execution_count": 44,
   "metadata": {},
   "outputs": [],
   "source": [
    "cats = df.select_dtypes('object').columns\n",
    "\n",
    "# ignore the columns I'll be removing\n",
    "cats = list(set(cats).difference(cols_to_remove))"
   ]
  },
  {
   "cell_type": "code",
   "execution_count": 45,
   "metadata": {},
   "outputs": [
    {
     "data": {
      "text/html": [
       "<div>\n",
       "<style scoped>\n",
       "    .dataframe tbody tr th:only-of-type {\n",
       "        vertical-align: middle;\n",
       "    }\n",
       "\n",
       "    .dataframe tbody tr th {\n",
       "        vertical-align: top;\n",
       "    }\n",
       "\n",
       "    .dataframe thead th {\n",
       "        text-align: right;\n",
       "    }\n",
       "</style>\n",
       "<table border=\"1\" class=\"dataframe\">\n",
       "  <thead>\n",
       "    <tr style=\"text-align: right;\">\n",
       "      <th></th>\n",
       "      <th>eligibility</th>\n",
       "      <th>ScheduledTime</th>\n",
       "      <th>Colour</th>\n",
       "      <th>Bred</th>\n",
       "      <th>Weather</th>\n",
       "      <th>RaceType</th>\n",
       "      <th>Going</th>\n",
       "      <th>Sex</th>\n",
       "      <th>TrackType</th>\n",
       "      <th>MeetingDate</th>\n",
       "    </tr>\n",
       "  </thead>\n",
       "  <tbody>\n",
       "    <tr>\n",
       "      <th>0</th>\n",
       "      <td>2YO only</td>\n",
       "      <td>##########</td>\n",
       "      <td>b</td>\n",
       "      <td>SAF</td>\n",
       "      <td>Cloudy</td>\n",
       "      <td>Flat</td>\n",
       "      <td>Good</td>\n",
       "      <td>f</td>\n",
       "      <td>Turf</td>\n",
       "      <td>02/05/2017</td>\n",
       "    </tr>\n",
       "    <tr>\n",
       "      <th>1</th>\n",
       "      <td>2YO only</td>\n",
       "      <td>##########</td>\n",
       "      <td>b</td>\n",
       "      <td>SAF</td>\n",
       "      <td>Cloudy</td>\n",
       "      <td>Flat</td>\n",
       "      <td>Good</td>\n",
       "      <td>f</td>\n",
       "      <td>Turf</td>\n",
       "      <td>02/05/2017</td>\n",
       "    </tr>\n",
       "    <tr>\n",
       "      <th>2</th>\n",
       "      <td>2YO only</td>\n",
       "      <td>##########</td>\n",
       "      <td>b</td>\n",
       "      <td>SAF</td>\n",
       "      <td>Cloudy</td>\n",
       "      <td>Flat</td>\n",
       "      <td>Good</td>\n",
       "      <td>f</td>\n",
       "      <td>Turf</td>\n",
       "      <td>02/05/2017</td>\n",
       "    </tr>\n",
       "    <tr>\n",
       "      <th>3</th>\n",
       "      <td>2YO only</td>\n",
       "      <td>##########</td>\n",
       "      <td>b</td>\n",
       "      <td>SAF</td>\n",
       "      <td>Cloudy</td>\n",
       "      <td>Flat</td>\n",
       "      <td>Good</td>\n",
       "      <td>f</td>\n",
       "      <td>Turf</td>\n",
       "      <td>02/05/2017</td>\n",
       "    </tr>\n",
       "    <tr>\n",
       "      <th>4</th>\n",
       "      <td>2YO only</td>\n",
       "      <td>##########</td>\n",
       "      <td>b</td>\n",
       "      <td>SAF</td>\n",
       "      <td>Cloudy</td>\n",
       "      <td>Flat</td>\n",
       "      <td>Good</td>\n",
       "      <td>f</td>\n",
       "      <td>Turf</td>\n",
       "      <td>02/05/2017</td>\n",
       "    </tr>\n",
       "  </tbody>\n",
       "</table>\n",
       "</div>"
      ],
      "text/plain": [
       "  eligibility ScheduledTime Colour Bred Weather RaceType Going Sex TrackType  \\\n",
       "0    2YO only    ##########      b  SAF  Cloudy     Flat  Good   f      Turf   \n",
       "1    2YO only    ##########      b  SAF  Cloudy     Flat  Good   f      Turf   \n",
       "2    2YO only    ##########      b  SAF  Cloudy     Flat  Good   f      Turf   \n",
       "3    2YO only    ##########      b  SAF  Cloudy     Flat  Good   f      Turf   \n",
       "4    2YO only    ##########      b  SAF  Cloudy     Flat  Good   f      Turf   \n",
       "\n",
       "  MeetingDate  \n",
       "0  02/05/2017  \n",
       "1  02/05/2017  \n",
       "2  02/05/2017  \n",
       "3  02/05/2017  \n",
       "4  02/05/2017  "
      ]
     },
     "execution_count": 45,
     "metadata": {},
     "output_type": "execute_result"
    }
   ],
   "source": [
    "df[cats].head()"
   ]
  },
  {
   "cell_type": "code",
   "execution_count": 47,
   "metadata": {},
   "outputs": [
    {
     "data": {
      "image/png": "[encoded data removed]",
      "text/plain": [
       "<Figure size 720x360 with 1 Axes>"
      ]
     },
     "metadata": {
      "needs_background": "light"
     },
     "output_type": "display_data"
    },
    {
     "data": {
      "image/png": "[encoded data removed]",
      "text/plain": [
       "<Figure size 720x360 with 1 Axes>"
      ]
     },
     "metadata": {
      "needs_background": "light"
     },
     "output_type": "display_data"
    },
    {
     "data": {
      "image/png": "[encoded data removed]",
      "text/plain": [
       "<Figure size 720x360 with 1 Axes>"
      ]
     },
     "metadata": {
      "needs_background": "light"
     },
     "output_type": "display_data"
    },
    {
     "data": {
      "image/png": "[encoded data removed]",
      "text/plain": [
       "<Figure size 720x360 with 1 Axes>"
      ]
     },
     "metadata": {
      "needs_background": "light"
     },
     "output_type": "display_data"
    },
    {
     "data": {
      "image/png": "[encoded data removed]",
      "text/plain": [
       "<Figure size 720x360 with 1 Axes>"
      ]
     },
     "metadata": {
      "needs_background": "light"
     },
     "output_type": "display_data"
    },
    {
     "data": {
      "image/png": "[encoded data removed]",
      "text/plain": [
       "<Figure size 720x360 with 1 Axes>"
      ]
     },
     "metadata": {
      "needs_background": "light"
     },
     "output_type": "display_data"
    },
    {
     "data": {
      "image/png": "[encoded data removed]",
      "text/plain": [
       "<Figure size 720x360 with 1 Axes>"
      ]
     },
     "metadata": {
      "needs_background": "light"
     },
     "output_type": "display_data"
    },
    {
     "data": {
      "image/png": "[encoded data removed]",
      "text/plain": [
       "<Figure size 720x360 with 1 Axes>"
      ]
     },
     "metadata": {
      "needs_background": "light"
     },
     "output_type": "display_data"
    },
    {
     "data": {
      "image/png": "[encoded data removed]",
      "text/plain": [
       "<Figure size 720x360 with 1 Axes>"
      ]
     },
     "metadata": {
      "needs_background": "light"
     },
     "output_type": "display_data"
    },
    {
     "data": {
      "image/png": "[encoded data removed]",
      "text/plain": [
       "<Figure size 720x360 with 1 Axes>"
      ]
     },
     "metadata": {
      "needs_background": "light"
     },
     "output_type": "display_data"
    }
   ],
   "source": [
    "for c in cats:\n",
    "    plt.figure(figsize=(10, 5))\n",
    "    sns.countplot(x=c, data=df)\n",
    "    plt.xticks(rotation=90)\n",
    "    plt.show()"
   ]
  },
  {
   "cell_type": "code",
   "execution_count": 48,
   "metadata": {},
   "outputs": [
    {
     "name": "stderr",
     "output_type": "stream",
     "text": [
      "1:35: E261 at least two spaces before inline comment\n",
      "3:23: E124 closing bracket does not match visual indentation\n"
     ]
    }
   ],
   "source": [
    "cols_to_remove.extend(['RaceType',  # all flat races\n",
    "                       'ScheduledTime',  # corrupted date\n",
    "                      ])"
   ]
  },
  {
   "cell_type": "markdown",
   "metadata": {},
   "source": [
    "### Create dummy variables"
   ]
  },
  {
   "cell_type": "code",
   "execution_count": 60,
   "metadata": {},
   "outputs": [],
   "source": [
    "for c in ['RaceType', 'MeetingDate', 'ScheduledTime']:\n",
    "    cats.remove(c)"
   ]
  },
  {
   "cell_type": "code",
   "execution_count": 61,
   "metadata": {},
   "outputs": [
    {
     "data": {
      "text/plain": [
       "['eligibility', 'Colour', 'Bred', 'Weather', 'Going', 'Sex', 'TrackType']"
      ]
     },
     "execution_count": 61,
     "metadata": {},
     "output_type": "execute_result"
    }
   ],
   "source": [
    "cats"
   ]
  },
  {
   "cell_type": "code",
   "execution_count": 62,
   "metadata": {},
   "outputs": [
    {
     "name": "stderr",
     "output_type": "stream",
     "text": [
      "2:80: E501 line too long (85 > 79 characters)\n"
     ]
    }
   ],
   "source": [
    "for c in cats:\n",
    "    df = df.merge(pd.get_dummies(df[c], prefix=c), left_index=True, right_index=True)"
   ]
  },
  {
   "cell_type": "code",
   "execution_count": 64,
   "metadata": {},
   "outputs": [],
   "source": [
    "cols_to_remove.extend(cats)"
   ]
  },
  {
   "cell_type": "code",
   "execution_count": 66,
   "metadata": {},
   "outputs": [
    {
     "data": {
      "text/html": [
       "<div>\n",
       "<style scoped>\n",
       "    .dataframe tbody tr th:only-of-type {\n",
       "        vertical-align: middle;\n",
       "    }\n",
       "\n",
       "    .dataframe tbody tr th {\n",
       "        vertical-align: top;\n",
       "    }\n",
       "\n",
       "    .dataframe thead th {\n",
       "        text-align: right;\n",
       "    }\n",
       "</style>\n",
       "<table border=\"1\" class=\"dataframe\">\n",
       "  <thead>\n",
       "    <tr style=\"text-align: right;\">\n",
       "      <th></th>\n",
       "      <th>RaceID</th>\n",
       "      <th>HorseID</th>\n",
       "      <th>Cloth</th>\n",
       "      <th>Stall</th>\n",
       "      <th>WeightValue</th>\n",
       "      <th>JockeyID</th>\n",
       "      <th>TrainerID</th>\n",
       "      <th>OwnerID</th>\n",
       "      <th>LastRunDaysFlat</th>\n",
       "      <th>Age</th>\n",
       "      <th>DamID</th>\n",
       "      <th>SireID</th>\n",
       "      <th>DamSireID</th>\n",
       "      <th>MeetingID</th>\n",
       "      <th>RaceNumber</th>\n",
       "      <th>HorseCount</th>\n",
       "      <th>Runners</th>\n",
       "      <th>Course_Distance</th>\n",
       "      <th>Handicap</th>\n",
       "      <th>CourseID</th>\n",
       "      <th>MeetingDate</th>\n",
       "      <th>Won</th>\n",
       "      <th>forecast_price_cleaned</th>\n",
       "      <th>...</th>\n",
       "      <th>Weather_Fine but Cloudy</th>\n",
       "      <th>Weather_Overcast</th>\n",
       "      <th>Weather_Raining</th>\n",
       "      <th>Weather_Sunny</th>\n",
       "      <th>Weather_Sunny &amp; Warm</th>\n",
       "      <th>Weather_Sunny &amp; Windy</th>\n",
       "      <th>Weather_Sunny Intervals</th>\n",
       "      <th>Weather_Unsettled</th>\n",
       "      <th>Going_Good</th>\n",
       "      <th>Going_Good to Firm</th>\n",
       "      <th>Going_Good to Soft</th>\n",
       "      <th>Going_Heavy</th>\n",
       "      <th>Going_Soft</th>\n",
       "      <th>Going_Soft (Heavy in places)</th>\n",
       "      <th>Going_Standard</th>\n",
       "      <th>Sex_c</th>\n",
       "      <th>Sex_f</th>\n",
       "      <th>Sex_g</th>\n",
       "      <th>Sex_h</th>\n",
       "      <th>Sex_m</th>\n",
       "      <th>TrackType_Polytrack</th>\n",
       "      <th>TrackType_Sand</th>\n",
       "      <th>TrackType_Turf</th>\n",
       "    </tr>\n",
       "  </thead>\n",
       "  <tbody>\n",
       "    <tr>\n",
       "      <th>0</th>\n",
       "      <td>989418</td>\n",
       "      <td>2963489</td>\n",
       "      <td>7</td>\n",
       "      <td>5.0000</td>\n",
       "      <td>132</td>\n",
       "      <td>1398052.0000</td>\n",
       "      <td>1198534</td>\n",
       "      <td>1289143.0000</td>\n",
       "      <td>26.0000</td>\n",
       "      <td>3.0000</td>\n",
       "      <td>2803520.0000</td>\n",
       "      <td>2004880.0000</td>\n",
       "      <td>2179351.0000</td>\n",
       "      <td>87048</td>\n",
       "      <td>1</td>\n",
       "      <td>13</td>\n",
       "      <td>11.0000</td>\n",
       "      <td>1312</td>\n",
       "      <td>0.0000</td>\n",
       "      <td>380</td>\n",
       "      <td>02/05/2017</td>\n",
       "      <td>0</td>\n",
       "      <td>16.0000</td>\n",
       "      <td>...</td>\n",
       "      <td>0</td>\n",
       "      <td>0</td>\n",
       "      <td>0</td>\n",
       "      <td>0</td>\n",
       "      <td>0</td>\n",
       "      <td>0</td>\n",
       "      <td>0</td>\n",
       "      <td>0</td>\n",
       "      <td>1</td>\n",
       "      <td>0</td>\n",
       "      <td>0</td>\n",
       "      <td>0</td>\n",
       "      <td>0</td>\n",
       "      <td>0</td>\n",
       "      <td>0</td>\n",
       "      <td>0</td>\n",
       "      <td>1</td>\n",
       "      <td>0</td>\n",
       "      <td>0</td>\n",
       "      <td>0</td>\n",
       "      <td>0</td>\n",
       "      <td>0</td>\n",
       "      <td>1</td>\n",
       "    </tr>\n",
       "    <tr>\n",
       "      <th>1</th>\n",
       "      <td>989418</td>\n",
       "      <td>2972665</td>\n",
       "      <td>13</td>\n",
       "      <td>6.0000</td>\n",
       "      <td>132</td>\n",
       "      <td>1165412.0000</td>\n",
       "      <td>1188128</td>\n",
       "      <td>1140080.0000</td>\n",
       "      <td>nan</td>\n",
       "      <td>3.0000</td>\n",
       "      <td>2749301.0000</td>\n",
       "      <td>2960049.0000</td>\n",
       "      <td>2001540.0000</td>\n",
       "      <td>87048</td>\n",
       "      <td>1</td>\n",
       "      <td>13</td>\n",
       "      <td>11.0000</td>\n",
       "      <td>1312</td>\n",
       "      <td>0.0000</td>\n",
       "      <td>380</td>\n",
       "      <td>02/05/2017</td>\n",
       "      <td>0</td>\n",
       "      <td>20.0000</td>\n",
       "      <td>...</td>\n",
       "      <td>0</td>\n",
       "      <td>0</td>\n",
       "      <td>0</td>\n",
       "      <td>0</td>\n",
       "      <td>0</td>\n",
       "      <td>0</td>\n",
       "      <td>0</td>\n",
       "      <td>0</td>\n",
       "      <td>1</td>\n",
       "      <td>0</td>\n",
       "      <td>0</td>\n",
       "      <td>0</td>\n",
       "      <td>0</td>\n",
       "      <td>0</td>\n",
       "      <td>0</td>\n",
       "      <td>0</td>\n",
       "      <td>1</td>\n",
       "      <td>0</td>\n",
       "      <td>0</td>\n",
       "      <td>0</td>\n",
       "      <td>0</td>\n",
       "      <td>0</td>\n",
       "      <td>1</td>\n",
       "    </tr>\n",
       "    <tr>\n",
       "      <th>2</th>\n",
       "      <td>989418</td>\n",
       "      <td>2972662</td>\n",
       "      <td>9</td>\n",
       "      <td>7.0000</td>\n",
       "      <td>132</td>\n",
       "      <td>1239852.0000</td>\n",
       "      <td>1199122</td>\n",
       "      <td>1448576.0000</td>\n",
       "      <td>nan</td>\n",
       "      <td>3.0000</td>\n",
       "      <td>2761722.0000</td>\n",
       "      <td>2441786.0000</td>\n",
       "      <td>2123459.0000</td>\n",
       "      <td>87048</td>\n",
       "      <td>1</td>\n",
       "      <td>13</td>\n",
       "      <td>11.0000</td>\n",
       "      <td>1312</td>\n",
       "      <td>0.0000</td>\n",
       "      <td>380</td>\n",
       "      <td>02/05/2017</td>\n",
       "      <td>0</td>\n",
       "      <td>10.0000</td>\n",
       "      <td>...</td>\n",
       "      <td>0</td>\n",
       "      <td>0</td>\n",
       "      <td>0</td>\n",
       "      <td>0</td>\n",
       "      <td>0</td>\n",
       "      <td>0</td>\n",
       "      <td>0</td>\n",
       "      <td>0</td>\n",
       "      <td>1</td>\n",
       "      <td>0</td>\n",
       "      <td>0</td>\n",
       "      <td>0</td>\n",
       "      <td>0</td>\n",
       "      <td>0</td>\n",
       "      <td>0</td>\n",
       "      <td>0</td>\n",
       "      <td>1</td>\n",
       "      <td>0</td>\n",
       "      <td>0</td>\n",
       "      <td>0</td>\n",
       "      <td>0</td>\n",
       "      <td>0</td>\n",
       "      <td>1</td>\n",
       "    </tr>\n",
       "    <tr>\n",
       "      <th>3</th>\n",
       "      <td>989418</td>\n",
       "      <td>2960365</td>\n",
       "      <td>1</td>\n",
       "      <td>12.0000</td>\n",
       "      <td>132</td>\n",
       "      <td>1417524.0000</td>\n",
       "      <td>1049637</td>\n",
       "      <td>1487690.0000</td>\n",
       "      <td>33.0000</td>\n",
       "      <td>3.0000</td>\n",
       "      <td>2347111.0000</td>\n",
       "      <td>2170013.0000</td>\n",
       "      <td>2071137.0000</td>\n",
       "      <td>87048</td>\n",
       "      <td>1</td>\n",
       "      <td>13</td>\n",
       "      <td>11.0000</td>\n",
       "      <td>1312</td>\n",
       "      <td>0.0000</td>\n",
       "      <td>380</td>\n",
       "      <td>02/05/2017</td>\n",
       "      <td>1</td>\n",
       "      <td>1.7500</td>\n",
       "      <td>...</td>\n",
       "      <td>0</td>\n",
       "      <td>0</td>\n",
       "      <td>0</td>\n",
       "      <td>0</td>\n",
       "      <td>0</td>\n",
       "      <td>0</td>\n",
       "      <td>0</td>\n",
       "      <td>0</td>\n",
       "      <td>1</td>\n",
       "      <td>0</td>\n",
       "      <td>0</td>\n",
       "      <td>0</td>\n",
       "      <td>0</td>\n",
       "      <td>0</td>\n",
       "      <td>0</td>\n",
       "      <td>0</td>\n",
       "      <td>1</td>\n",
       "      <td>0</td>\n",
       "      <td>0</td>\n",
       "      <td>0</td>\n",
       "      <td>0</td>\n",
       "      <td>0</td>\n",
       "      <td>1</td>\n",
       "    </tr>\n",
       "    <tr>\n",
       "      <th>4</th>\n",
       "      <td>989418</td>\n",
       "      <td>2968596</td>\n",
       "      <td>11</td>\n",
       "      <td>8.0000</td>\n",
       "      <td>132</td>\n",
       "      <td>1354773.0000</td>\n",
       "      <td>1140041</td>\n",
       "      <td>1403676.0000</td>\n",
       "      <td>24.0000</td>\n",
       "      <td>3.0000</td>\n",
       "      <td>2618721.0000</td>\n",
       "      <td>2410998.0000</td>\n",
       "      <td>2170115.0000</td>\n",
       "      <td>87048</td>\n",
       "      <td>1</td>\n",
       "      <td>13</td>\n",
       "      <td>11.0000</td>\n",
       "      <td>1312</td>\n",
       "      <td>0.0000</td>\n",
       "      <td>380</td>\n",
       "      <td>02/05/2017</td>\n",
       "      <td>0</td>\n",
       "      <td>8.0000</td>\n",
       "      <td>...</td>\n",
       "      <td>0</td>\n",
       "      <td>0</td>\n",
       "      <td>0</td>\n",
       "      <td>0</td>\n",
       "      <td>0</td>\n",
       "      <td>0</td>\n",
       "      <td>0</td>\n",
       "      <td>0</td>\n",
       "      <td>1</td>\n",
       "      <td>0</td>\n",
       "      <td>0</td>\n",
       "      <td>0</td>\n",
       "      <td>0</td>\n",
       "      <td>0</td>\n",
       "      <td>0</td>\n",
       "      <td>0</td>\n",
       "      <td>1</td>\n",
       "      <td>0</td>\n",
       "      <td>0</td>\n",
       "      <td>0</td>\n",
       "      <td>0</td>\n",
       "      <td>0</td>\n",
       "      <td>1</td>\n",
       "    </tr>\n",
       "  </tbody>\n",
       "</table>\n",
       "<p>5 rows × 78 columns</p>\n",
       "</div>"
      ],
      "text/plain": [
       "   RaceID  HorseID  Cloth   Stall  WeightValue     JockeyID  TrainerID  \\\n",
       "0  989418  2963489      7  5.0000          132 1398052.0000    1198534   \n",
       "1  989418  2972665     13  6.0000          132 1165412.0000    1188128   \n",
       "2  989418  2972662      9  7.0000          132 1239852.0000    1199122   \n",
       "3  989418  2960365      1 12.0000          132 1417524.0000    1049637   \n",
       "4  989418  2968596     11  8.0000          132 1354773.0000    1140041   \n",
       "\n",
       "       OwnerID  LastRunDaysFlat    Age        DamID       SireID    DamSireID  \\\n",
       "0 1289143.0000          26.0000 3.0000 2803520.0000 2004880.0000 2179351.0000   \n",
       "1 1140080.0000              nan 3.0000 2749301.0000 2960049.0000 2001540.0000   \n",
       "2 1448576.0000              nan 3.0000 2761722.0000 2441786.0000 2123459.0000   \n",
       "3 1487690.0000          33.0000 3.0000 2347111.0000 2170013.0000 2071137.0000   \n",
       "4 1403676.0000          24.0000 3.0000 2618721.0000 2410998.0000 2170115.0000   \n",
       "\n",
       "   MeetingID  RaceNumber  HorseCount  Runners  Course_Distance  Handicap  \\\n",
       "0      87048           1          13  11.0000             1312    0.0000   \n",
       "1      87048           1          13  11.0000             1312    0.0000   \n",
       "2      87048           1          13  11.0000             1312    0.0000   \n",
       "3      87048           1          13  11.0000             1312    0.0000   \n",
       "4      87048           1          13  11.0000             1312    0.0000   \n",
       "\n",
       "   CourseID MeetingDate  Won  forecast_price_cleaned  ...  \\\n",
       "0       380  02/05/2017    0                 16.0000  ...   \n",
       "1       380  02/05/2017    0                 20.0000  ...   \n",
       "2       380  02/05/2017    0                 10.0000  ...   \n",
       "3       380  02/05/2017    1                  1.7500  ...   \n",
       "4       380  02/05/2017    0                  8.0000  ...   \n",
       "\n",
       "   Weather_Fine but Cloudy  Weather_Overcast  Weather_Raining  Weather_Sunny  \\\n",
       "0                        0                 0                0              0   \n",
       "1                        0                 0                0              0   \n",
       "2                        0                 0                0              0   \n",
       "3                        0                 0                0              0   \n",
       "4                        0                 0                0              0   \n",
       "\n",
       "   Weather_Sunny & Warm  Weather_Sunny & Windy  Weather_Sunny Intervals  \\\n",
       "0                     0                      0                        0   \n",
       "1                     0                      0                        0   \n",
       "2                     0                      0                        0   \n",
       "3                     0                      0                        0   \n",
       "4                     0                      0                        0   \n",
       "\n",
       "   Weather_Unsettled  Going_Good  Going_Good to Firm  Going_Good to Soft  \\\n",
       "0                  0           1                   0                   0   \n",
       "1                  0           1                   0                   0   \n",
       "2                  0           1                   0                   0   \n",
       "3                  0           1                   0                   0   \n",
       "4                  0           1                   0                   0   \n",
       "\n",
       "   Going_Heavy  Going_Soft  Going_Soft (Heavy in places)  Going_Standard  \\\n",
       "0            0           0                             0               0   \n",
       "1            0           0                             0               0   \n",
       "2            0           0                             0               0   \n",
       "3            0           0                             0               0   \n",
       "4            0           0                             0               0   \n",
       "\n",
       "   Sex_c  Sex_f  Sex_g  Sex_h  Sex_m  TrackType_Polytrack  TrackType_Sand  \\\n",
       "0      0      1      0      0      0                    0               0   \n",
       "1      0      1      0      0      0                    0               0   \n",
       "2      0      1      0      0      0                    0               0   \n",
       "3      0      1      0      0      0                    0               0   \n",
       "4      0      1      0      0      0                    0               0   \n",
       "\n",
       "   TrackType_Turf  \n",
       "0               1  \n",
       "1               1  \n",
       "2               1  \n",
       "3               1  \n",
       "4               1  \n",
       "\n",
       "[5 rows x 78 columns]"
      ]
     },
     "execution_count": 66,
     "metadata": {},
     "output_type": "execute_result"
    }
   ],
   "source": [
    "df.drop(columns=cols_to_remove).head()"
   ]
  },
  {
   "cell_type": "code",
   "execution_count": 49,
   "metadata": {},
   "outputs": [
    {
     "data": {
      "text/plain": [
       "dtype('O')"
      ]
     },
     "execution_count": 49,
     "metadata": {},
     "output_type": "execute_result"
    }
   ],
   "source": [
    "# convert meeting date to a datetime\n",
    "print(df.MeetingDate.dtype)  \n",
    "\n",
    "# TBC"
   ]
  },
  {
   "cell_type": "markdown",
   "metadata": {},
   "source": [
    "### Create some variables to describe the horses previous form"
   ]
  },
  {
   "cell_type": "markdown",
   "metadata": {},
   "source": [
    "## Visualise Continous Variables"
   ]
  },
  {
   "cell_type": "code",
   "execution_count": null,
   "metadata": {},
   "outputs": [],
   "source": [
    "df"
   ]
  },
  {
   "cell_type": "code",
   "execution_count": null,
   "metadata": {},
   "outputs": [],
   "source": [
    "# TODO pairs plot?"
   ]
  },
  {
   "cell_type": "markdown",
   "metadata": {},
   "source": [
    "## Task 2 Modelling:  \n",
    "(45 Minutes Max)\n",
    "\n",
    "1) Build a model (or models) to predict the winner.  \n",
    "2) Evaluate your model(s) performance and briefly detail any methods or logic you are using to do so."
   ]
  },
  {
   "cell_type": "markdown",
   "metadata": {},
   "source": [
    "**Modelling assumptions...**  \n",
    "* that I am predicting the outcome of a past event and that the Forecast and Starting Price are both available and not leaking infortmation.  "
   ]
  },
  {
   "cell_type": "code",
   "execution_count": 109,
   "metadata": {},
   "outputs": [],
   "source": [
    "y = df['Won']"
   ]
  },
  {
   "cell_type": "code",
   "execution_count": 111,
   "metadata": {},
   "outputs": [
    {
     "data": {
      "text/plain": [
       "0    33912\n",
       "1     2907\n",
       "Name: Won, dtype: int64"
      ]
     },
     "execution_count": 111,
     "metadata": {},
     "output_type": "execute_result"
    }
   ],
   "source": [
    "y.value_counts()"
   ]
  },
  {
   "cell_type": "code",
   "execution_count": null,
   "metadata": {},
   "outputs": [],
   "source": [
    "X = df.drop(columns=cols_to_drop)"
   ]
  },
  {
   "cell_type": "markdown",
   "metadata": {},
   "source": [
    "## Other considerations, with more time... \n",
    "* Really need to capture the horses form. Converting the MeetingDate to a datetime value we can use lag functions to capture prior statistics relating to the horses form, characteristics about the race tracks the horse has won at etc. \n",
    "* bayesian probability - the probability of winning given prior knowledge of A) the horses form and B) the changing odds.  \n",
    "* Need to consider the structure of this data... training on all horses doesn't seem right... EXPAND ON THIS."
   ]
  },
  {
   "cell_type": "code",
   "execution_count": null,
   "metadata": {},
   "outputs": [],
   "source": []
  }
 ],
 "metadata": {
  "kernelspec": {
   "display_name": "Python 3",
   "language": "python",
   "name": "python3"
  },
  "language_info": {
   "codemirror_mode": {
    "name": "ipython",
    "version": 3
   },
   "file_extension": ".py",
   "mimetype": "text/x-python",
   "name": "python",
   "nbconvert_exporter": "python",
   "pygments_lexer": "ipython3",
   "version": "3.7.3"
  }
 },
 "nbformat": 4,
 "nbformat_minor": 4
}
